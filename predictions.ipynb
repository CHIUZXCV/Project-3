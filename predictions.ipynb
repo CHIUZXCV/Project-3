{
 "cells": [
  {
   "cell_type": "markdown",
   "metadata": {},
   "source": [
    "# Prework"
   ]
  },
  {
   "cell_type": "code",
   "execution_count": 1,
   "metadata": {},
   "outputs": [],
   "source": [
    "# Import libraries\n",
    "import pandas as pd\n",
    "from pathlib import Path\n",
    "from sklearn.preprocessing import StandardScaler\n",
    "from sklearn.decomposition import PCA\n",
    "from sklearn.cluster import KMeans "
   ]
  },
  {
   "cell_type": "code",
   "execution_count": 2,
   "metadata": {},
   "outputs": [],
   "source": [
    "#Load CSVs\n",
    "file_path_2020_p = Path(\"RESOURCES/2020_p.csv\")\n",
    "file_path_2020 = Path(\"RESOURCES/2020.csv\")\n",
    "file_path_2019 = Path(\"RESOURCES/2019.csv\")\n",
    "file_path_2018 = Path(\"RESOURCES/2018.csv\")\n",
    "file_path_2017 = Path(\"RESOURCES/2017.csv\")\n",
    "file_path_2016 = Path(\"RESOURCES/2016.csv\")\n",
    "file_path_2015 = Path(\"RESOURCES/2015.csv\")\n",
    "file_path_2014 = Path(\"RESOURCES/2014.csv\")\n",
    "file_path_2013 = Path(\"RESOURCES/2013.csv\")\n",
    "file_path_2012 = Path(\"RESOURCES/2012.csv\")\n",
    "file_path_2011 = Path(\"RESOURCES/2011.csv\")\n",
    "#Read in CSVs\n",
    "df_2020_p = pd.read_csv(file_path_2020_p, index_col='Date', infer_datetime_format=True, dayfirst=True, parse_dates=True) \n",
    "df_2020 = pd.read_csv(file_path_2020, index_col='Date', infer_datetime_format=True, dayfirst=True, parse_dates=True) \n",
    "df_2019 = pd.read_csv(file_path_2019, index_col='Date', infer_datetime_format=True, dayfirst=True, parse_dates=True) \n",
    "df_2018 = pd.read_csv(file_path_2018, index_col='Date', infer_datetime_format=True, dayfirst=True, parse_dates=True)\n",
    "df_2017 = pd.read_csv(file_path_2017, index_col='Date', infer_datetime_format=True, dayfirst=True, parse_dates=True)\n",
    "df_2016 = pd.read_csv(file_path_2016, index_col='Date', infer_datetime_format=True, dayfirst=True, parse_dates=True)\n",
    "df_2015 = pd.read_csv(file_path_2015, index_col='Date', infer_datetime_format=True, dayfirst=True, parse_dates=True)\n",
    "df_2014 = pd.read_csv(file_path_2014, index_col='Date', infer_datetime_format=True, dayfirst=True, parse_dates=True)\n",
    "df_2013 = pd.read_csv(file_path_2013, index_col='Date', infer_datetime_format=True, dayfirst=True, parse_dates=True)\n",
    "df_2012 = pd.read_csv(file_path_2012, index_col='Date', infer_datetime_format=True, dayfirst=True, parse_dates=True)\n",
    "df_2011 = pd.read_csv(file_path_2011, index_col='Date', infer_datetime_format=True, dayfirst=True, parse_dates=True)"
   ]
  },
  {
   "cell_type": "markdown",
   "metadata": {},
   "source": [
    "# Cleaning Data"
   ]
  },
  {
   "cell_type": "code",
   "execution_count": 3,
   "metadata": {},
   "outputs": [],
   "source": [
    "#Concat Data\n",
    "train_epl_df = pd.concat([df_2020,df_2019, df_2018, df_2017, df_2016, df_2015, df_2014, df_2013, df_2012, df_2011],axis=\"index\", join=\"inner\")"
   ]
  },
  {
   "cell_type": "code",
   "execution_count": 4,
   "metadata": {},
   "outputs": [
    {
     "name": "stdout",
     "output_type": "stream",
     "text": [
      "['Div' 'HomeTeam' 'AwayTeam' 'FTHG' 'FTAG' 'FTR' 'HTHG' 'HTAG' 'HTR'\n",
      " 'Referee' 'HS' 'AS' 'HST' 'AST' 'HF' 'AF' 'HC' 'AC' 'HY' 'AY' 'HR' 'AR'\n",
      " 'B365H' 'B365D' 'B365A' 'BWH' 'BWD' 'BWA' 'IWH' 'IWD' 'IWA' 'WHH' 'WHD'\n",
      " 'WHA' 'VCH' 'VCD' 'VCA']\n"
     ]
    }
   ],
   "source": [
    "print(train_epl_df.columns.values)"
   ]
  },
  {
   "cell_type": "code",
   "execution_count": 5,
   "metadata": {},
   "outputs": [],
   "source": [
    "train_epl_df.sort_index(inplace=True)"
   ]
  },
  {
   "cell_type": "code",
   "execution_count": 6,
   "metadata": {},
   "outputs": [],
   "source": [
    "#Pull the Testing Data for 2019\n",
    "predict_epl_df = (df_2020_p)\n",
    "predict_epl_df.sort_index(inplace=True)"
   ]
  },
  {
   "cell_type": "code",
   "execution_count": 7,
   "metadata": {},
   "outputs": [
    {
     "name": "stdout",
     "output_type": "stream",
     "text": [
      "['HomeTeam' 'AwayTeam' 'FTHG' 'FTAG' 'FTR' 'HTHG' 'HTAG' 'HTR' 'HST' 'AST'\n",
      " 'HF' 'AF' 'HY' 'AY' 'HR' 'AR' 'B365H' 'B365D' 'B365A' 'WHH' 'WHD' 'WHA']\n"
     ]
    }
   ],
   "source": [
    "print(predict_epl_df.columns.values)"
   ]
  },
  {
   "cell_type": "code",
   "execution_count": 8,
   "metadata": {},
   "outputs": [
    {
     "data": {
      "text/plain": [
       "Div         0\n",
       "HomeTeam    0\n",
       "AwayTeam    0\n",
       "FTHG        0\n",
       "FTAG        0\n",
       "dtype: int64"
      ]
     },
     "execution_count": 8,
     "metadata": {},
     "output_type": "execute_result"
    }
   ],
   "source": [
    "# Check data for nulls, check for sum, for Train Data\n",
    "train_epl_df.isnull().sum()\n",
    "train_epl_df.dropna(inplace=True)\n",
    "train_epl_df.isnull().sum().head()"
   ]
  },
  {
   "cell_type": "code",
   "execution_count": 9,
   "metadata": {},
   "outputs": [
    {
     "data": {
      "text/plain": [
       "HomeTeam    0\n",
       "AwayTeam    0\n",
       "FTHG        0\n",
       "FTAG        0\n",
       "FTR         0\n",
       "dtype: int64"
      ]
     },
     "execution_count": 9,
     "metadata": {},
     "output_type": "execute_result"
    }
   ],
   "source": [
    "# Check data for nulls, check for sum, for Test Data\n",
    "predict_epl_df.isnull().sum()\n",
    "predict_epl_df.dropna(inplace=True)\n",
    "predict_epl_df.isnull().sum().head()"
   ]
  },
  {
   "cell_type": "code",
   "execution_count": 10,
   "metadata": {},
   "outputs": [
    {
     "name": "stdout",
     "output_type": "stream",
     "text": [
      "['Div' 'HomeTeam' 'AwayTeam' 'FTHG' 'FTAG' 'FTR' 'HTHG' 'HTAG' 'HTR'\n",
      " 'Referee' 'HS' 'AS' 'HST' 'AST' 'HF' 'AF' 'HC' 'AC' 'HY' 'AY' 'HR' 'AR'\n",
      " 'B365H' 'B365D' 'B365A' 'BWH' 'BWD' 'BWA' 'IWH' 'IWD' 'IWA' 'WHH' 'WHD'\n",
      " 'WHA' 'VCH' 'VCD' 'VCA']\n"
     ]
    }
   ],
   "source": [
    "#To check the columns for the Train dataframe\n",
    "train_epl_df.head()\n",
    "print(train_epl_df.columns.values)"
   ]
  },
  {
   "cell_type": "code",
   "execution_count": 11,
   "metadata": {},
   "outputs": [
    {
     "data": {
      "text/html": [
       "<div>\n",
       "<style scoped>\n",
       "    .dataframe tbody tr th:only-of-type {\n",
       "        vertical-align: middle;\n",
       "    }\n",
       "\n",
       "    .dataframe tbody tr th {\n",
       "        vertical-align: top;\n",
       "    }\n",
       "\n",
       "    .dataframe thead th {\n",
       "        text-align: right;\n",
       "    }\n",
       "</style>\n",
       "<table border=\"1\" class=\"dataframe\">\n",
       "  <thead>\n",
       "    <tr style=\"text-align: right;\">\n",
       "      <th></th>\n",
       "      <th>HomeTeam</th>\n",
       "      <th>AwayTeam</th>\n",
       "      <th>FTHG</th>\n",
       "      <th>FTAG</th>\n",
       "      <th>FTR</th>\n",
       "      <th>HTHG</th>\n",
       "      <th>HTAG</th>\n",
       "      <th>HTR</th>\n",
       "      <th>HST</th>\n",
       "      <th>AST</th>\n",
       "      <th>...</th>\n",
       "      <th>HY</th>\n",
       "      <th>AY</th>\n",
       "      <th>HR</th>\n",
       "      <th>AR</th>\n",
       "      <th>B365H</th>\n",
       "      <th>B365D</th>\n",
       "      <th>B365A</th>\n",
       "      <th>WHH</th>\n",
       "      <th>WHD</th>\n",
       "      <th>WHA</th>\n",
       "    </tr>\n",
       "    <tr>\n",
       "      <th>Date</th>\n",
       "      <th></th>\n",
       "      <th></th>\n",
       "      <th></th>\n",
       "      <th></th>\n",
       "      <th></th>\n",
       "      <th></th>\n",
       "      <th></th>\n",
       "      <th></th>\n",
       "      <th></th>\n",
       "      <th></th>\n",
       "      <th></th>\n",
       "      <th></th>\n",
       "      <th></th>\n",
       "      <th></th>\n",
       "      <th></th>\n",
       "      <th></th>\n",
       "      <th></th>\n",
       "      <th></th>\n",
       "      <th></th>\n",
       "      <th></th>\n",
       "      <th></th>\n",
       "    </tr>\n",
       "  </thead>\n",
       "  <tbody>\n",
       "    <tr>\n",
       "      <th>2010-08-14</th>\n",
       "      <td>Wolves</td>\n",
       "      <td>Stoke</td>\n",
       "      <td>2</td>\n",
       "      <td>1</td>\n",
       "      <td>H</td>\n",
       "      <td>2</td>\n",
       "      <td>0</td>\n",
       "      <td>H</td>\n",
       "      <td>7</td>\n",
       "      <td>6</td>\n",
       "      <td>...</td>\n",
       "      <td>0</td>\n",
       "      <td>2</td>\n",
       "      <td>0</td>\n",
       "      <td>0</td>\n",
       "      <td>2.30</td>\n",
       "      <td>3.25</td>\n",
       "      <td>3.2</td>\n",
       "      <td>2.30</td>\n",
       "      <td>3.20</td>\n",
       "      <td>3.20</td>\n",
       "    </tr>\n",
       "    <tr>\n",
       "      <th>2010-08-14</th>\n",
       "      <td>Aston Villa</td>\n",
       "      <td>West Ham</td>\n",
       "      <td>3</td>\n",
       "      <td>0</td>\n",
       "      <td>H</td>\n",
       "      <td>2</td>\n",
       "      <td>0</td>\n",
       "      <td>H</td>\n",
       "      <td>11</td>\n",
       "      <td>2</td>\n",
       "      <td>...</td>\n",
       "      <td>1</td>\n",
       "      <td>2</td>\n",
       "      <td>0</td>\n",
       "      <td>0</td>\n",
       "      <td>2.00</td>\n",
       "      <td>3.30</td>\n",
       "      <td>4.0</td>\n",
       "      <td>1.91</td>\n",
       "      <td>3.25</td>\n",
       "      <td>4.33</td>\n",
       "    </tr>\n",
       "    <tr>\n",
       "      <th>2010-08-14</th>\n",
       "      <td>Blackburn</td>\n",
       "      <td>Everton</td>\n",
       "      <td>1</td>\n",
       "      <td>0</td>\n",
       "      <td>H</td>\n",
       "      <td>1</td>\n",
       "      <td>0</td>\n",
       "      <td>H</td>\n",
       "      <td>2</td>\n",
       "      <td>12</td>\n",
       "      <td>...</td>\n",
       "      <td>2</td>\n",
       "      <td>1</td>\n",
       "      <td>0</td>\n",
       "      <td>0</td>\n",
       "      <td>2.88</td>\n",
       "      <td>3.25</td>\n",
       "      <td>2.5</td>\n",
       "      <td>2.88</td>\n",
       "      <td>3.20</td>\n",
       "      <td>2.50</td>\n",
       "    </tr>\n",
       "    <tr>\n",
       "      <th>2010-08-14</th>\n",
       "      <td>Bolton</td>\n",
       "      <td>Fulham</td>\n",
       "      <td>0</td>\n",
       "      <td>0</td>\n",
       "      <td>D</td>\n",
       "      <td>0</td>\n",
       "      <td>0</td>\n",
       "      <td>D</td>\n",
       "      <td>9</td>\n",
       "      <td>7</td>\n",
       "      <td>...</td>\n",
       "      <td>1</td>\n",
       "      <td>3</td>\n",
       "      <td>0</td>\n",
       "      <td>0</td>\n",
       "      <td>2.20</td>\n",
       "      <td>3.30</td>\n",
       "      <td>3.4</td>\n",
       "      <td>2.15</td>\n",
       "      <td>3.20</td>\n",
       "      <td>3.50</td>\n",
       "    </tr>\n",
       "    <tr>\n",
       "      <th>2010-08-14</th>\n",
       "      <td>Chelsea</td>\n",
       "      <td>West Brom</td>\n",
       "      <td>6</td>\n",
       "      <td>0</td>\n",
       "      <td>H</td>\n",
       "      <td>2</td>\n",
       "      <td>0</td>\n",
       "      <td>H</td>\n",
       "      <td>13</td>\n",
       "      <td>4</td>\n",
       "      <td>...</td>\n",
       "      <td>1</td>\n",
       "      <td>0</td>\n",
       "      <td>0</td>\n",
       "      <td>0</td>\n",
       "      <td>1.17</td>\n",
       "      <td>7.00</td>\n",
       "      <td>17.0</td>\n",
       "      <td>1.17</td>\n",
       "      <td>6.50</td>\n",
       "      <td>19.00</td>\n",
       "    </tr>\n",
       "  </tbody>\n",
       "</table>\n",
       "<p>5 rows × 22 columns</p>\n",
       "</div>"
      ],
      "text/plain": [
       "               HomeTeam   AwayTeam  FTHG  FTAG FTR  HTHG  HTAG HTR  HST  AST  \\\n",
       "Date                                                                           \n",
       "2010-08-14       Wolves      Stoke     2     1   H     2     0   H    7    6   \n",
       "2010-08-14  Aston Villa   West Ham     3     0   H     2     0   H   11    2   \n",
       "2010-08-14    Blackburn    Everton     1     0   H     1     0   H    2   12   \n",
       "2010-08-14       Bolton     Fulham     0     0   D     0     0   D    9    7   \n",
       "2010-08-14      Chelsea  West Brom     6     0   H     2     0   H   13    4   \n",
       "\n",
       "            ...  HY  AY  HR  AR  B365H  B365D  B365A   WHH   WHD    WHA  \n",
       "Date        ...                                                          \n",
       "2010-08-14  ...   0   2   0   0   2.30   3.25    3.2  2.30  3.20   3.20  \n",
       "2010-08-14  ...   1   2   0   0   2.00   3.30    4.0  1.91  3.25   4.33  \n",
       "2010-08-14  ...   2   1   0   0   2.88   3.25    2.5  2.88  3.20   2.50  \n",
       "2010-08-14  ...   1   3   0   0   2.20   3.30    3.4  2.15  3.20   3.50  \n",
       "2010-08-14  ...   1   0   0   0   1.17   7.00   17.0  1.17  6.50  19.00  \n",
       "\n",
       "[5 rows x 22 columns]"
      ]
     },
     "execution_count": 11,
     "metadata": {},
     "output_type": "execute_result"
    }
   ],
   "source": [
    "#Drop Excess columns Train Data\n",
    "train_epl_df = train_epl_df.drop(columns=['Div', 'Referee', 'HS', 'AS', 'HC', 'AC', \n",
    "                                        'BWA','BWH', 'BWD', 'IWH', 'IWD', 'IWA', 'VCH', 'VCD', 'VCA',\n",
    "                                         ])\n",
    "train_epl_df.head()"
   ]
  },
  {
   "cell_type": "code",
   "execution_count": 12,
   "metadata": {},
   "outputs": [
    {
     "name": "stdout",
     "output_type": "stream",
     "text": [
      "['HomeTeam' 'AwayTeam' 'FTHG' 'FTAG' 'FTR' 'HTHG' 'HTAG' 'HTR' 'HST' 'AST'\n",
      " 'HF' 'AF' 'HY' 'AY' 'HR' 'AR' 'B365H' 'B365D' 'B365A' 'WHH' 'WHD' 'WHA']\n"
     ]
    }
   ],
   "source": [
    "#Check new columns for Train Data\n",
    "train_epl_df.head()\n",
    "print(train_epl_df.columns.values)"
   ]
  },
  {
   "cell_type": "code",
   "execution_count": 13,
   "metadata": {},
   "outputs": [
    {
     "name": "stdout",
     "output_type": "stream",
     "text": [
      "['HomeTeam' 'AwayTeam' 'FTHG' 'FTAG' 'FTR' 'HTHG' 'HTAG' 'HTR' 'HST' 'AST'\n",
      " 'HF' 'AF' 'HY' 'AY' 'HR' 'AR' 'B365H' 'B365D' 'B365A' 'WHH' 'WHD' 'WHA']\n"
     ]
    }
   ],
   "source": [
    "#To check the columns for the predict dataframe\n",
    "predict_epl_df.head()\n",
    "print(predict_epl_df.columns.values)"
   ]
  },
  {
   "cell_type": "code",
   "execution_count": 14,
   "metadata": {},
   "outputs": [
    {
     "data": {
      "text/html": [
       "<div>\n",
       "<style scoped>\n",
       "    .dataframe tbody tr th:only-of-type {\n",
       "        vertical-align: middle;\n",
       "    }\n",
       "\n",
       "    .dataframe tbody tr th {\n",
       "        vertical-align: top;\n",
       "    }\n",
       "\n",
       "    .dataframe thead th {\n",
       "        text-align: right;\n",
       "    }\n",
       "</style>\n",
       "<table border=\"1\" class=\"dataframe\">\n",
       "  <thead>\n",
       "    <tr style=\"text-align: right;\">\n",
       "      <th></th>\n",
       "      <th>HomeTeam</th>\n",
       "      <th>AwayTeam</th>\n",
       "      <th>FT_HomeGoals</th>\n",
       "      <th>FT_AwayGoals</th>\n",
       "      <th>FT_Result</th>\n",
       "      <th>HT_HomeGoals</th>\n",
       "      <th>HT_AwayGoals</th>\n",
       "      <th>HT_Result</th>\n",
       "      <th>HomeShotsonTarget</th>\n",
       "      <th>AwayShotsonTarget</th>\n",
       "      <th>...</th>\n",
       "      <th>HomeYellowCards</th>\n",
       "      <th>AwayYellowCards</th>\n",
       "      <th>HomeRedCards</th>\n",
       "      <th>AwayRedCards</th>\n",
       "      <th>Bet365_HomeWin_Odds</th>\n",
       "      <th>Bet365_Draw_Odds</th>\n",
       "      <th>Bet365_AwayWin_Odds</th>\n",
       "      <th>WilliamHill_HomeWin_Odds</th>\n",
       "      <th>WilliamHill_HomeDraw_Odds</th>\n",
       "      <th>WilliamHill_AwayWin_Odds</th>\n",
       "    </tr>\n",
       "    <tr>\n",
       "      <th>Date</th>\n",
       "      <th></th>\n",
       "      <th></th>\n",
       "      <th></th>\n",
       "      <th></th>\n",
       "      <th></th>\n",
       "      <th></th>\n",
       "      <th></th>\n",
       "      <th></th>\n",
       "      <th></th>\n",
       "      <th></th>\n",
       "      <th></th>\n",
       "      <th></th>\n",
       "      <th></th>\n",
       "      <th></th>\n",
       "      <th></th>\n",
       "      <th></th>\n",
       "      <th></th>\n",
       "      <th></th>\n",
       "      <th></th>\n",
       "      <th></th>\n",
       "      <th></th>\n",
       "    </tr>\n",
       "  </thead>\n",
       "  <tbody>\n",
       "    <tr>\n",
       "      <th>2010-08-14</th>\n",
       "      <td>Wolves</td>\n",
       "      <td>Stoke</td>\n",
       "      <td>2</td>\n",
       "      <td>1</td>\n",
       "      <td>H</td>\n",
       "      <td>2</td>\n",
       "      <td>0</td>\n",
       "      <td>H</td>\n",
       "      <td>7</td>\n",
       "      <td>6</td>\n",
       "      <td>...</td>\n",
       "      <td>0</td>\n",
       "      <td>2</td>\n",
       "      <td>0</td>\n",
       "      <td>0</td>\n",
       "      <td>2.30</td>\n",
       "      <td>3.25</td>\n",
       "      <td>3.2</td>\n",
       "      <td>2.30</td>\n",
       "      <td>3.20</td>\n",
       "      <td>3.20</td>\n",
       "    </tr>\n",
       "    <tr>\n",
       "      <th>2010-08-14</th>\n",
       "      <td>Aston Villa</td>\n",
       "      <td>West Ham</td>\n",
       "      <td>3</td>\n",
       "      <td>0</td>\n",
       "      <td>H</td>\n",
       "      <td>2</td>\n",
       "      <td>0</td>\n",
       "      <td>H</td>\n",
       "      <td>11</td>\n",
       "      <td>2</td>\n",
       "      <td>...</td>\n",
       "      <td>1</td>\n",
       "      <td>2</td>\n",
       "      <td>0</td>\n",
       "      <td>0</td>\n",
       "      <td>2.00</td>\n",
       "      <td>3.30</td>\n",
       "      <td>4.0</td>\n",
       "      <td>1.91</td>\n",
       "      <td>3.25</td>\n",
       "      <td>4.33</td>\n",
       "    </tr>\n",
       "    <tr>\n",
       "      <th>2010-08-14</th>\n",
       "      <td>Blackburn</td>\n",
       "      <td>Everton</td>\n",
       "      <td>1</td>\n",
       "      <td>0</td>\n",
       "      <td>H</td>\n",
       "      <td>1</td>\n",
       "      <td>0</td>\n",
       "      <td>H</td>\n",
       "      <td>2</td>\n",
       "      <td>12</td>\n",
       "      <td>...</td>\n",
       "      <td>2</td>\n",
       "      <td>1</td>\n",
       "      <td>0</td>\n",
       "      <td>0</td>\n",
       "      <td>2.88</td>\n",
       "      <td>3.25</td>\n",
       "      <td>2.5</td>\n",
       "      <td>2.88</td>\n",
       "      <td>3.20</td>\n",
       "      <td>2.50</td>\n",
       "    </tr>\n",
       "    <tr>\n",
       "      <th>2010-08-14</th>\n",
       "      <td>Bolton</td>\n",
       "      <td>Fulham</td>\n",
       "      <td>0</td>\n",
       "      <td>0</td>\n",
       "      <td>D</td>\n",
       "      <td>0</td>\n",
       "      <td>0</td>\n",
       "      <td>D</td>\n",
       "      <td>9</td>\n",
       "      <td>7</td>\n",
       "      <td>...</td>\n",
       "      <td>1</td>\n",
       "      <td>3</td>\n",
       "      <td>0</td>\n",
       "      <td>0</td>\n",
       "      <td>2.20</td>\n",
       "      <td>3.30</td>\n",
       "      <td>3.4</td>\n",
       "      <td>2.15</td>\n",
       "      <td>3.20</td>\n",
       "      <td>3.50</td>\n",
       "    </tr>\n",
       "    <tr>\n",
       "      <th>2010-08-14</th>\n",
       "      <td>Chelsea</td>\n",
       "      <td>West Brom</td>\n",
       "      <td>6</td>\n",
       "      <td>0</td>\n",
       "      <td>H</td>\n",
       "      <td>2</td>\n",
       "      <td>0</td>\n",
       "      <td>H</td>\n",
       "      <td>13</td>\n",
       "      <td>4</td>\n",
       "      <td>...</td>\n",
       "      <td>1</td>\n",
       "      <td>0</td>\n",
       "      <td>0</td>\n",
       "      <td>0</td>\n",
       "      <td>1.17</td>\n",
       "      <td>7.00</td>\n",
       "      <td>17.0</td>\n",
       "      <td>1.17</td>\n",
       "      <td>6.50</td>\n",
       "      <td>19.00</td>\n",
       "    </tr>\n",
       "  </tbody>\n",
       "</table>\n",
       "<p>5 rows × 22 columns</p>\n",
       "</div>"
      ],
      "text/plain": [
       "               HomeTeam   AwayTeam  FT_HomeGoals  FT_AwayGoals FT_Result  \\\n",
       "Date                                                                       \n",
       "2010-08-14       Wolves      Stoke             2             1         H   \n",
       "2010-08-14  Aston Villa   West Ham             3             0         H   \n",
       "2010-08-14    Blackburn    Everton             1             0         H   \n",
       "2010-08-14       Bolton     Fulham             0             0         D   \n",
       "2010-08-14      Chelsea  West Brom             6             0         H   \n",
       "\n",
       "            HT_HomeGoals  HT_AwayGoals HT_Result  HomeShotsonTarget  \\\n",
       "Date                                                                  \n",
       "2010-08-14             2             0         H                  7   \n",
       "2010-08-14             2             0         H                 11   \n",
       "2010-08-14             1             0         H                  2   \n",
       "2010-08-14             0             0         D                  9   \n",
       "2010-08-14             2             0         H                 13   \n",
       "\n",
       "            AwayShotsonTarget  ...  HomeYellowCards  AwayYellowCards  \\\n",
       "Date                           ...                                     \n",
       "2010-08-14                  6  ...                0                2   \n",
       "2010-08-14                  2  ...                1                2   \n",
       "2010-08-14                 12  ...                2                1   \n",
       "2010-08-14                  7  ...                1                3   \n",
       "2010-08-14                  4  ...                1                0   \n",
       "\n",
       "            HomeRedCards  AwayRedCards  Bet365_HomeWin_Odds  Bet365_Draw_Odds  \\\n",
       "Date                                                                            \n",
       "2010-08-14             0             0                 2.30              3.25   \n",
       "2010-08-14             0             0                 2.00              3.30   \n",
       "2010-08-14             0             0                 2.88              3.25   \n",
       "2010-08-14             0             0                 2.20              3.30   \n",
       "2010-08-14             0             0                 1.17              7.00   \n",
       "\n",
       "            Bet365_AwayWin_Odds  WilliamHill_HomeWin_Odds  \\\n",
       "Date                                                        \n",
       "2010-08-14                  3.2                      2.30   \n",
       "2010-08-14                  4.0                      1.91   \n",
       "2010-08-14                  2.5                      2.88   \n",
       "2010-08-14                  3.4                      2.15   \n",
       "2010-08-14                 17.0                      1.17   \n",
       "\n",
       "            WilliamHill_HomeDraw_Odds  WilliamHill_AwayWin_Odds  \n",
       "Date                                                             \n",
       "2010-08-14                       3.20                      3.20  \n",
       "2010-08-14                       3.25                      4.33  \n",
       "2010-08-14                       3.20                      2.50  \n",
       "2010-08-14                       3.20                      3.50  \n",
       "2010-08-14                       6.50                     19.00  \n",
       "\n",
       "[5 rows x 22 columns]"
      ]
     },
     "execution_count": 14,
     "metadata": {},
     "output_type": "execute_result"
    }
   ],
   "source": [
    "#Rename Columns \n",
    "train_epl_df = train_epl_df.rename(columns={\n",
    "    \"FTHG\": \"FT_HomeGoals\", \"FTAG\": \"FT_AwayGoals\", \"FTR\": \"FT_Result\", \"HTHG\": \"HT_HomeGoals\", \"HTAG\": \"HT_AwayGoals\", \"HTR\": \"HT_Result\", \"HST\": \"HomeShotsonTarget\", \"AST\": \"AwayShotsonTarget\",\n",
    "    \"HF\": \"HomeFouls\", \"AF\": \"AwayFouls\", \"HY\": \"HomeYellowCards\", \"AY\": \"AwayYellowCards\", \"HR\": \"HomeRedCards\", \"AR\": \"AwayRedCards\",\n",
    "    \"B365H\" : \"Bet365_HomeWin_Odds\", \"B365D\": \"Bet365_Draw_Odds\", \"B365A\": \"Bet365_AwayWin_Odds\", \"WHH\": \"WilliamHill_HomeWin_Odds\", \"WHD\": \"WilliamHill_HomeDraw_Odds\", \"WHA\": \"WilliamHill_AwayWin_Odds\"})\n",
    "train_epl_df.head()"
   ]
  },
  {
   "cell_type": "code",
   "execution_count": 15,
   "metadata": {},
   "outputs": [
    {
     "data": {
      "text/html": [
       "<div>\n",
       "<style scoped>\n",
       "    .dataframe tbody tr th:only-of-type {\n",
       "        vertical-align: middle;\n",
       "    }\n",
       "\n",
       "    .dataframe tbody tr th {\n",
       "        vertical-align: top;\n",
       "    }\n",
       "\n",
       "    .dataframe thead th {\n",
       "        text-align: right;\n",
       "    }\n",
       "</style>\n",
       "<table border=\"1\" class=\"dataframe\">\n",
       "  <thead>\n",
       "    <tr style=\"text-align: right;\">\n",
       "      <th></th>\n",
       "      <th>HomeTeam</th>\n",
       "      <th>AwayTeam</th>\n",
       "      <th>FT_HomeGoals</th>\n",
       "      <th>FT_AwayGoals</th>\n",
       "      <th>FT_Result</th>\n",
       "      <th>HT_HomeGoals</th>\n",
       "      <th>HT_AwayGoals</th>\n",
       "      <th>HT_Result</th>\n",
       "      <th>HomeShotsonTarget</th>\n",
       "      <th>AwayShotsonTarget</th>\n",
       "      <th>...</th>\n",
       "      <th>HomeYellowCards</th>\n",
       "      <th>AwayYellowCards</th>\n",
       "      <th>HomeRedCards</th>\n",
       "      <th>AwayRedCards</th>\n",
       "      <th>Bet365_HomeWin_Odds</th>\n",
       "      <th>Bet365_Draw_Odds</th>\n",
       "      <th>Bet365_AwayWin_Odds</th>\n",
       "      <th>WilliamHill_HomeWin_Odds</th>\n",
       "      <th>WilliamHill_HomeDraw_Odds</th>\n",
       "      <th>WilliamHill_AwayWin_Odds</th>\n",
       "    </tr>\n",
       "    <tr>\n",
       "      <th>Date</th>\n",
       "      <th></th>\n",
       "      <th></th>\n",
       "      <th></th>\n",
       "      <th></th>\n",
       "      <th></th>\n",
       "      <th></th>\n",
       "      <th></th>\n",
       "      <th></th>\n",
       "      <th></th>\n",
       "      <th></th>\n",
       "      <th></th>\n",
       "      <th></th>\n",
       "      <th></th>\n",
       "      <th></th>\n",
       "      <th></th>\n",
       "      <th></th>\n",
       "      <th></th>\n",
       "      <th></th>\n",
       "      <th></th>\n",
       "      <th></th>\n",
       "      <th></th>\n",
       "    </tr>\n",
       "  </thead>\n",
       "  <tbody>\n",
       "    <tr>\n",
       "      <th>2020-10-17</th>\n",
       "      <td>Everton</td>\n",
       "      <td>Liverpool</td>\n",
       "      <td>4</td>\n",
       "      <td>2</td>\n",
       "      <td>H</td>\n",
       "      <td>2</td>\n",
       "      <td>1</td>\n",
       "      <td>H</td>\n",
       "      <td>6</td>\n",
       "      <td>8</td>\n",
       "      <td>...</td>\n",
       "      <td>0</td>\n",
       "      <td>1</td>\n",
       "      <td>0</td>\n",
       "      <td>0</td>\n",
       "      <td>3.75</td>\n",
       "      <td>4.20</td>\n",
       "      <td>1.83</td>\n",
       "      <td>3.85</td>\n",
       "      <td>3.90</td>\n",
       "      <td>1.87</td>\n",
       "    </tr>\n",
       "    <tr>\n",
       "      <th>2020-10-17</th>\n",
       "      <td>Chelsea</td>\n",
       "      <td>Southampton</td>\n",
       "      <td>4</td>\n",
       "      <td>1</td>\n",
       "      <td>H</td>\n",
       "      <td>0</td>\n",
       "      <td>1</td>\n",
       "      <td>A</td>\n",
       "      <td>6</td>\n",
       "      <td>1</td>\n",
       "      <td>...</td>\n",
       "      <td>2</td>\n",
       "      <td>0</td>\n",
       "      <td>0</td>\n",
       "      <td>0</td>\n",
       "      <td>1.45</td>\n",
       "      <td>4.75</td>\n",
       "      <td>6.50</td>\n",
       "      <td>1.50</td>\n",
       "      <td>4.50</td>\n",
       "      <td>6.25</td>\n",
       "    </tr>\n",
       "    <tr>\n",
       "      <th>2020-10-17</th>\n",
       "      <td>Man City</td>\n",
       "      <td>Arsenal</td>\n",
       "      <td>2</td>\n",
       "      <td>1</td>\n",
       "      <td>H</td>\n",
       "      <td>1</td>\n",
       "      <td>1</td>\n",
       "      <td>D</td>\n",
       "      <td>5</td>\n",
       "      <td>3</td>\n",
       "      <td>...</td>\n",
       "      <td>1</td>\n",
       "      <td>2</td>\n",
       "      <td>3</td>\n",
       "      <td>0</td>\n",
       "      <td>1.44</td>\n",
       "      <td>5.00</td>\n",
       "      <td>6.50</td>\n",
       "      <td>1.46</td>\n",
       "      <td>4.75</td>\n",
       "      <td>6.50</td>\n",
       "    </tr>\n",
       "    <tr>\n",
       "      <th>2020-10-17</th>\n",
       "      <td>Newcastle</td>\n",
       "      <td>Man United</td>\n",
       "      <td>3</td>\n",
       "      <td>3</td>\n",
       "      <td>D</td>\n",
       "      <td>1</td>\n",
       "      <td>1</td>\n",
       "      <td>D</td>\n",
       "      <td>5</td>\n",
       "      <td>3</td>\n",
       "      <td>...</td>\n",
       "      <td>2</td>\n",
       "      <td>2</td>\n",
       "      <td>0</td>\n",
       "      <td>0</td>\n",
       "      <td>5.00</td>\n",
       "      <td>4.33</td>\n",
       "      <td>1.61</td>\n",
       "      <td>5.00</td>\n",
       "      <td>4.00</td>\n",
       "      <td>1.67</td>\n",
       "    </tr>\n",
       "  </tbody>\n",
       "</table>\n",
       "<p>4 rows × 22 columns</p>\n",
       "</div>"
      ],
      "text/plain": [
       "             HomeTeam     AwayTeam  FT_HomeGoals  FT_AwayGoals FT_Result  \\\n",
       "Date                                                                       \n",
       "2020-10-17    Everton    Liverpool             4             2         H   \n",
       "2020-10-17    Chelsea  Southampton             4             1         H   \n",
       "2020-10-17   Man City      Arsenal             2             1         H   \n",
       "2020-10-17  Newcastle   Man United             3             3         D   \n",
       "\n",
       "            HT_HomeGoals  HT_AwayGoals HT_Result  HomeShotsonTarget  \\\n",
       "Date                                                                  \n",
       "2020-10-17             2             1         H                  6   \n",
       "2020-10-17             0             1         A                  6   \n",
       "2020-10-17             1             1         D                  5   \n",
       "2020-10-17             1             1         D                  5   \n",
       "\n",
       "            AwayShotsonTarget  ...  HomeYellowCards  AwayYellowCards  \\\n",
       "Date                           ...                                     \n",
       "2020-10-17                  8  ...                0                1   \n",
       "2020-10-17                  1  ...                2                0   \n",
       "2020-10-17                  3  ...                1                2   \n",
       "2020-10-17                  3  ...                2                2   \n",
       "\n",
       "            HomeRedCards  AwayRedCards  Bet365_HomeWin_Odds  Bet365_Draw_Odds  \\\n",
       "Date                                                                            \n",
       "2020-10-17             0             0                 3.75              4.20   \n",
       "2020-10-17             0             0                 1.45              4.75   \n",
       "2020-10-17             3             0                 1.44              5.00   \n",
       "2020-10-17             0             0                 5.00              4.33   \n",
       "\n",
       "            Bet365_AwayWin_Odds  WilliamHill_HomeWin_Odds  \\\n",
       "Date                                                        \n",
       "2020-10-17                 1.83                      3.85   \n",
       "2020-10-17                 6.50                      1.50   \n",
       "2020-10-17                 6.50                      1.46   \n",
       "2020-10-17                 1.61                      5.00   \n",
       "\n",
       "            WilliamHill_HomeDraw_Odds  WilliamHill_AwayWin_Odds  \n",
       "Date                                                             \n",
       "2020-10-17                       3.90                      1.87  \n",
       "2020-10-17                       4.50                      6.25  \n",
       "2020-10-17                       4.75                      6.50  \n",
       "2020-10-17                       4.00                      1.67  \n",
       "\n",
       "[4 rows x 22 columns]"
      ]
     },
     "execution_count": 15,
     "metadata": {},
     "output_type": "execute_result"
    }
   ],
   "source": [
    "#Rename Columns for test Data\n",
    "predict_epl_df = predict_epl_df.rename(columns={\n",
    "    \"FTHG\": \"FT_HomeGoals\", \"FTAG\": \"FT_AwayGoals\", \"FTR\": \"FT_Result\", \"HTHG\": \"HT_HomeGoals\", \"HTAG\": \"HT_AwayGoals\", \"HTR\": \"HT_Result\", \"HST\": \"HomeShotsonTarget\", \"AST\": \"AwayShotsonTarget\",\n",
    "    \"HF\": \"HomeFouls\", \"AF\": \"AwayFouls\", \"HY\": \"HomeYellowCards\", \"AY\": \"AwayYellowCards\", \"HR\": \"HomeRedCards\", \"AR\": \"AwayRedCards\",\n",
    "    \"B365H\" : \"Bet365_HomeWin_Odds\", \"B365D\": \"Bet365_Draw_Odds\", \"B365A\": \"Bet365_AwayWin_Odds\", \"WHH\": \"WilliamHill_HomeWin_Odds\", \"WHD\": \"WilliamHill_HomeDraw_Odds\", \"WHA\": \"WilliamHill_AwayWin_Odds\"})\n",
    "predict_epl_df.head()"
   ]
  },
  {
   "cell_type": "code",
   "execution_count": 16,
   "metadata": {},
   "outputs": [],
   "source": [
    "#Assign Value of 1/0 for Result Column based off of Function\n",
    "def conditions(s):\n",
    "    if (s['FT_Result'] == \"H\"):\n",
    "        return 1\n",
    "    else:\n",
    "        return 0"
   ]
  },
  {
   "cell_type": "code",
   "execution_count": 17,
   "metadata": {},
   "outputs": [],
   "source": [
    "#Assign funciton to each train/test dataframe\n",
    "train_epl_df['Result'] = train_epl_df.apply(conditions, axis=1)\n",
    "predict_epl_df['Result'] = predict_epl_df.apply(conditions, axis=1)"
   ]
  },
  {
   "cell_type": "markdown",
   "metadata": {},
   "source": [
    "# Separate DataFrames based on Team; Home vs Away, between Train and Test Data"
   ]
  },
  {
   "cell_type": "code",
   "execution_count": 18,
   "metadata": {},
   "outputs": [],
   "source": [
    "#Create DataFrames for Each Team by HomeTeam for Train Data\n",
    "everton_home_df = train_epl_df.loc[train_epl_df[\"HomeTeam\"] == \"Everton\"]\n",
    "astonvilla_home_df = train_epl_df.loc[train_epl_df[\"HomeTeam\"] == \"Aston Villa\"]\n",
    "leicester_home_df = train_epl_df.loc[train_epl_df[\"HomeTeam\"] == \"Leicester\"]\n",
    "arsenal_home_df = train_epl_df.loc[train_epl_df[\"HomeTeam\"] == \"Arsenal\"]\n",
    "liverpool_home_df = train_epl_df.loc[train_epl_df[\"HomeTeam\"] == \"Liverpool\"]\n",
    "tottenham_home_df = train_epl_df.loc[train_epl_df[\"HomeTeam\"] == \"Tottenham\"]\n",
    "chelsea_home_df = train_epl_df.loc[train_epl_df[\"HomeTeam\"] == \"Chelsea\"]\n",
    "leeds_home_df = train_epl_df.loc[train_epl_df[\"HomeTeam\"] == \"Leeds\"]\n",
    "newcastle_home_df = train_epl_df.loc[train_epl_df[\"HomeTeam\"] == \"Newcastle\"]\n",
    "westham_home_df = train_epl_df.loc[train_epl_df[\"HomeTeam\"] == \"West Ham\"]\n",
    "southampton_home_df = train_epl_df.loc[train_epl_df[\"HomeTeam\"] == \"Southampton\"]\n",
    "crystal_home_df = train_epl_df.loc[train_epl_df[\"HomeTeam\"] == \"Crystal Palace\"]\n",
    "wolves_home_df = train_epl_df.loc[train_epl_df[\"HomeTeam\"] == \"Wolves\"]\n",
    "mancity_home_df = train_epl_df.loc[train_epl_df[\"HomeTeam\"] == \"Man City\"]\n",
    "brighton_home_df = train_epl_df.loc[train_epl_df[\"HomeTeam\"] == \"Brighton\"]\n",
    "manutd_home_df = train_epl_df.loc[train_epl_df[\"HomeTeam\"] == \"Man United\"]\n",
    "westbrom_home_df = train_epl_df.loc[train_epl_df[\"HomeTeam\"] == \"West Brom\"]\n",
    "burnley_home_df = train_epl_df.loc[train_epl_df[\"HomeTeam\"] == \"Burnley\"]\n",
    "sheffield_home_df = train_epl_df.loc[train_epl_df[\"HomeTeam\"] == \"Sheffield United\"]\n",
    "fulham_home_df = train_epl_df.loc[train_epl_df[\"HomeTeam\"] == \"Fulham\"]"
   ]
  },
  {
   "cell_type": "code",
   "execution_count": 19,
   "metadata": {},
   "outputs": [],
   "source": [
    "#Create DataFrames for Each Team by HomeTeam for Test Data\n",
    "everton_home_t_df = predict_epl_df.loc[predict_epl_df[\"HomeTeam\"] == \"Everton\"]\n",
    "liverpool_home_t_df = predict_epl_df.loc[predict_epl_df[\"HomeTeam\"] == \"Liverpool\"]\n",
    "\n",
    "chelsea_home_t_df = predict_epl_df.loc[predict_epl_df[\"HomeTeam\"] == \"Chelsea\"]\n",
    "southampton_home_t_df = predict_epl_df.loc[predict_epl_df[\"HomeTeam\"] == \"Southampton\"]\n",
    "\n",
    "mancity_home_t_df = predict_epl_df.loc[predict_epl_df[\"HomeTeam\"] == \"Man City\"]\n",
    "arsenal_home_t_df = predict_epl_df.loc[predict_epl_df[\"HomeTeam\"] == \"Arsenal\"]\n",
    "\n",
    "newcastle_home_t_df = predict_epl_df.loc[predict_epl_df[\"HomeTeam\"] == \"Newcastle\"]\n",
    "manutd_home_t_df = predict_epl_df.loc[predict_epl_df[\"HomeTeam\"] == \"Man United\"]"
   ]
  },
  {
   "cell_type": "code",
   "execution_count": 20,
   "metadata": {},
   "outputs": [],
   "source": [
    "#Create DataFrames for Each Team by AwayTeam for Train Data\n",
    "everton_away_df = train_epl_df.loc[train_epl_df[\"AwayTeam\"] == \"Everton\"]\n",
    "astonvilla_away_df = train_epl_df.loc[train_epl_df[\"AwayTeam\"] == \"Aston Villa\"]\n",
    "leicester_away_df = train_epl_df.loc[train_epl_df[\"AwayTeam\"] == \"Leicester\"]\n",
    "arsenal_away_df = train_epl_df.loc[train_epl_df[\"AwayTeam\"] == \"Arsenal\"]\n",
    "liverpool_away_df = train_epl_df.loc[train_epl_df[\"AwayTeam\"] == \"Liverpool\"]\n",
    "tottenham_away_df = train_epl_df.loc[train_epl_df[\"AwayTeam\"] == \"Tottenham\"]\n",
    "chelsea_away_df = train_epl_df.loc[train_epl_df[\"AwayTeam\"] == \"Chelsea\"]\n",
    "leeds_away_df = train_epl_df.loc[train_epl_df[\"AwayTeam\"] == \"Leeds\"]\n",
    "newcastle_away_df = train_epl_df.loc[train_epl_df[\"AwayTeam\"] == \"Newcastle\"]\n",
    "westham_away_df = train_epl_df.loc[train_epl_df[\"AwayTeam\"] == \"West Ham\"]\n",
    "southampton_away_df = train_epl_df.loc[train_epl_df[\"AwayTeam\"] == \"Southampton\"]\n",
    "crystal_away_df = train_epl_df.loc[train_epl_df[\"AwayTeam\"] == \"Crystal Palace\"]\n",
    "wolves_away_df = train_epl_df.loc[train_epl_df[\"AwayTeam\"] == \"Wolves\"]\n",
    "mancity_away_df = train_epl_df.loc[train_epl_df[\"AwayTeam\"] == \"Man City\"]\n",
    "brighton_away_df = train_epl_df.loc[train_epl_df[\"AwayTeam\"] == \"Brighton\"]\n",
    "manutd_away_df = train_epl_df.loc[train_epl_df[\"AwayTeam\"] == \"Man United\"]\n",
    "westbrom_away_df = train_epl_df.loc[train_epl_df[\"AwayTeam\"] == \"West Brom\"]\n",
    "burnley_away_df = train_epl_df.loc[train_epl_df[\"AwayTeam\"] == \"Burnley\"]\n",
    "sheffield_away_df = train_epl_df.loc[train_epl_df[\"AwayTeam\"] == \"Sheffield United\"]\n",
    "fulham_away_df = train_epl_df.loc[train_epl_df[\"AwayTeam\"] == \"Fulham\"]"
   ]
  },
  {
   "cell_type": "code",
   "execution_count": 21,
   "metadata": {},
   "outputs": [],
   "source": [
    "#Create DataFrames for Each Team by AwayTeam for Test Data\n",
    "everton_away_t_df = predict_epl_df.loc[predict_epl_df[\"AwayTeam\"] == \"Everton\"]\n",
    "liverpool_away_t_df = predict_epl_df.loc[predict_epl_df[\"AwayTeam\"] == \"Liverpool\"]\n",
    "\n",
    "chelsea_away_t_df = predict_epl_df.loc[predict_epl_df[\"AwayTeam\"] == \"Chelsea\"]\n",
    "southampton_away_t_df = predict_epl_df.loc[predict_epl_df[\"AwayTeam\"] == \"Southampton\"]\n",
    "\n",
    "mancity_away_t_df = predict_epl_df.loc[predict_epl_df[\"AwayTeam\"] == \"Man City\"]\n",
    "arsenal_away_t_df = predict_epl_df.loc[predict_epl_df[\"AwayTeam\"] == \"Arsenal\"]\n",
    "\n",
    "newcastle_away_t_df = predict_epl_df.loc[predict_epl_df[\"AwayTeam\"] == \"Newcastle\"]\n",
    "manutd_away_t_df = predict_epl_df.loc[predict_epl_df[\"AwayTeam\"] == \"Man United\"]"
   ]
  },
  {
   "cell_type": "markdown",
   "metadata": {},
   "source": [
    "# Machine Learning For Relevant Games"
   ]
  },
  {
   "cell_type": "markdown",
   "metadata": {},
   "source": [
    "## Everton (Home 7:30am)"
   ]
  },
  {
   "cell_type": "code",
   "execution_count": 22,
   "metadata": {},
   "outputs": [],
   "source": [
    "#Export to Excel, to add a cell in prematch stats (HomeTeam/AwayTeam and Book Maker odds). Deleted top and bottom row from CSV. \n",
    "#Now, For Example, the 5/1/2011 (Game2), has LiverPool versing NewCastle, but has the results of the Liverpool/Tottenham (Game1), to use as features for Game2.\n",
    "#Commenting out CSVs to prevent multiple saved files.\n",
    "\n",
    "\n",
    "#everton_home_t_df.to_csv('Everton_Home_T_p.csv')\n",
    "#everton_home_df.to_csv('Everton_Home_p.csv')"
   ]
  },
  {
   "cell_type": "code",
   "execution_count": 23,
   "metadata": {},
   "outputs": [],
   "source": [
    "#Read in newly adjusted Everton CSVs as the HomeTeam\n",
    "everton_home_p = Path(\"RESOURCES/TeamCSVs2020/Everton_Home_p.csv\")\n",
    "everton_home_p_t = Path(\"RESOURCES/TeamCSVs2020/Everton_Home_T_p.csv\")\n",
    "#Read in CSVs\n",
    "everton_home_p = pd.read_csv(everton_home_p)\n",
    "everton_home_p_t = pd.read_csv(everton_home_p_t)"
   ]
  },
  {
   "cell_type": "code",
   "execution_count": 24,
   "metadata": {},
   "outputs": [],
   "source": [
    "#Set Index of Date/HomeTeam/AwayTeam for Everton Home\n",
    "everton_home_p = everton_home_p.set_index(['Date', 'HomeTeam', 'AwayTeam'], drop = True)\n",
    "everton_home_p_t = everton_home_p_t.set_index(['Date', 'HomeTeam', 'AwayTeam'], drop = True)"
   ]
  },
  {
   "cell_type": "code",
   "execution_count": 25,
   "metadata": {},
   "outputs": [],
   "source": [
    "#Drop Columns that use Floats from DataSets\n",
    "everton_home_p = everton_home_p.drop(['FT_Result', 'HT_Result'], axis = 1) \n",
    "everton_home_p_t = everton_home_p_t.drop(['FT_Result', 'HT_Result'], axis = 1) "
   ]
  },
  {
   "cell_type": "code",
   "execution_count": 26,
   "metadata": {},
   "outputs": [],
   "source": [
    "#Declare Independent and Dependent Variables\n",
    "evh_y_train = everton_home_p['Result']\n",
    "evh_X_train = everton_home_p[['FT_HomeGoals', 'HT_HomeGoals','HomeShotsonTarget', 'HomeFouls','HomeYellowCards', 'HomeRedCards','Bet365_HomeWin_Odds', 'WilliamHill_HomeWin_Odds']]\n",
    "evh_y_test = everton_home_p_t['Result']\n",
    "evh_X_test = everton_home_p_t[['FT_HomeGoals', 'HT_HomeGoals','HomeShotsonTarget', 'HomeFouls','HomeYellowCards', 'HomeRedCards','Bet365_HomeWin_Odds', 'WilliamHill_HomeWin_Odds']]"
   ]
  },
  {
   "cell_type": "code",
   "execution_count": 27,
   "metadata": {},
   "outputs": [
    {
     "data": {
      "text/plain": [
       "LogisticRegression(max_iter=200, random_state=1)"
      ]
     },
     "execution_count": 27,
     "metadata": {},
     "output_type": "execute_result"
    }
   ],
   "source": [
    "from sklearn.linear_model import LogisticRegression\n",
    "evh_classifier = LogisticRegression(solver='lbfgs',\n",
    "                                max_iter=200,\n",
    "                                random_state=1)\n",
    "evh_classifier"
   ]
  },
  {
   "cell_type": "code",
   "execution_count": 28,
   "metadata": {},
   "outputs": [
    {
     "data": {
      "text/plain": [
       "LogisticRegression(max_iter=200, random_state=1)"
      ]
     },
     "execution_count": 28,
     "metadata": {},
     "output_type": "execute_result"
    }
   ],
   "source": [
    "evh_classifier.fit(evh_X_train, evh_y_train)"
   ]
  },
  {
   "cell_type": "code",
   "execution_count": 29,
   "metadata": {},
   "outputs": [
    {
     "name": "stdout",
     "output_type": "stream",
     "text": [
      "Training Data Score: 0.6162790697674418\n",
      "Testing Data Score: 0.0\n"
     ]
    }
   ],
   "source": [
    "print(f\"Training Data Score: {evh_classifier.score(evh_X_train, evh_y_train)}\")\n",
    "print(f\"Testing Data Score: {evh_classifier.score(evh_X_test, evh_y_test)}\")"
   ]
  },
  {
   "cell_type": "code",
   "execution_count": 30,
   "metadata": {},
   "outputs": [
    {
     "data": {
      "text/html": [
       "<div>\n",
       "<style scoped>\n",
       "    .dataframe tbody tr th:only-of-type {\n",
       "        vertical-align: middle;\n",
       "    }\n",
       "\n",
       "    .dataframe tbody tr th {\n",
       "        vertical-align: top;\n",
       "    }\n",
       "\n",
       "    .dataframe thead th {\n",
       "        text-align: right;\n",
       "    }\n",
       "</style>\n",
       "<table border=\"1\" class=\"dataframe\">\n",
       "  <thead>\n",
       "    <tr style=\"text-align: right;\">\n",
       "      <th></th>\n",
       "      <th></th>\n",
       "      <th></th>\n",
       "      <th>Prediction</th>\n",
       "      <th>Actual</th>\n",
       "    </tr>\n",
       "    <tr>\n",
       "      <th>Date</th>\n",
       "      <th>HomeTeam</th>\n",
       "      <th>AwayTeam</th>\n",
       "      <th></th>\n",
       "      <th></th>\n",
       "    </tr>\n",
       "  </thead>\n",
       "  <tbody>\n",
       "    <tr>\n",
       "      <th>10/17/2020</th>\n",
       "      <th>Everton</th>\n",
       "      <th>Liverpool</th>\n",
       "      <td>0</td>\n",
       "      <td>1</td>\n",
       "    </tr>\n",
       "  </tbody>\n",
       "</table>\n",
       "</div>"
      ],
      "text/plain": [
       "                               Prediction  Actual\n",
       "Date       HomeTeam AwayTeam                     \n",
       "10/17/2020 Everton  Liverpool           0       1"
      ]
     },
     "execution_count": 30,
     "metadata": {},
     "output_type": "execute_result"
    }
   ],
   "source": [
    "predictions = evh_classifier.predict(evh_X_test)\n",
    "results = pd.DataFrame({\"Prediction\": predictions, \"Actual\": evh_y_test})\n",
    "results.head(20)"
   ]
  },
  {
   "cell_type": "markdown",
   "metadata": {},
   "source": [
    "## Liverpool (Away 7:30am)"
   ]
  },
  {
   "cell_type": "code",
   "execution_count": 31,
   "metadata": {},
   "outputs": [],
   "source": [
    "#Export to Excel, to add a cell in prematch stats (HomeTeam/AwayTeam and Book Maker odds). Deleted top and bottom row from CSV. \n",
    "#Now, For Example, the 5/1/2011 (Game2), has LiverPool versing NewCastle, but has the results of the Liverpool/Tottenham (Game1), to use as features for Game2.\n",
    "#Commenting out CSVs to prevent multiple saved files.\n",
    "\n",
    "\n",
    "#liverpool_away_t_df.to_csv('Liverpool_Away_T_p.csv')\n",
    "#liverpool_away_df.to_csv('Liverpool_Away_p.csv')"
   ]
  },
  {
   "cell_type": "code",
   "execution_count": 32,
   "metadata": {},
   "outputs": [],
   "source": [
    "#Read in newly adjusted Liverpool CSVs as the AwayTeam\n",
    "liverpool_away_p = Path(\"RESOURCES/TeamCSVs2020/Liverpool_Away_p.csv\")\n",
    "liverpool_away_p_t = Path(\"RESOURCES/TeamCSVs2020/Liverpool_Away_T_p.csv\")\n",
    "#Read in CSVs\n",
    "liverpool_away_p = pd.read_csv(liverpool_away_p)\n",
    "liverpool_away_p_t = pd.read_csv(liverpool_away_p_t)"
   ]
  },
  {
   "cell_type": "code",
   "execution_count": 33,
   "metadata": {},
   "outputs": [],
   "source": [
    "#Set Index of Date/HomeTeam/AwayTeam for Liverpool Away\n",
    "liverpool_away_p = liverpool_away_p.set_index(['Date', 'HomeTeam', 'AwayTeam'], drop = True)\n",
    "liverpool_away_p_t = liverpool_away_p_t.set_index(['Date', 'HomeTeam', 'AwayTeam'], drop = True)"
   ]
  },
  {
   "cell_type": "code",
   "execution_count": 34,
   "metadata": {},
   "outputs": [],
   "source": [
    "#Drop Columns that use Floats from DataSets\n",
    "liverpool_away_p = liverpool_away_p.drop(['FT_Result', 'HT_Result'], axis = 1) \n",
    "liverpool_away_p_t = liverpool_away_p_t.drop(['FT_Result', 'HT_Result'], axis = 1) "
   ]
  },
  {
   "cell_type": "code",
   "execution_count": 35,
   "metadata": {},
   "outputs": [],
   "source": [
    "#Declare Dependent/Independent Variables\n",
    "lpa_y_train = liverpool_away_p['Result']\n",
    "lpa_X_train = liverpool_away_p[['FT_AwayGoals', 'HT_AwayGoals','AwayShotsonTarget', 'AwayFouls','AwayYellowCards', 'AwayRedCards','Bet365_AwayWin_Odds', 'WilliamHill_AwayWin_Odds']]\n",
    "lpa_y_test = liverpool_away_p_t['Result']\n",
    "lpa_X_test = liverpool_away_p_t[['FT_AwayGoals', 'HT_AwayGoals','AwayShotsonTarget', 'AwayFouls','AwayYellowCards', 'AwayRedCards','Bet365_AwayWin_Odds', 'WilliamHill_AwayWin_Odds']]"
   ]
  },
  {
   "cell_type": "code",
   "execution_count": 36,
   "metadata": {},
   "outputs": [
    {
     "data": {
      "text/plain": [
       "LogisticRegression(max_iter=200, random_state=1)"
      ]
     },
     "execution_count": 36,
     "metadata": {},
     "output_type": "execute_result"
    }
   ],
   "source": [
    "from sklearn.linear_model import LogisticRegression\n",
    "lpa_classifier = LogisticRegression(solver='lbfgs',\n",
    "                                max_iter=200,\n",
    "                                random_state=1)\n",
    "lpa_classifier"
   ]
  },
  {
   "cell_type": "code",
   "execution_count": 37,
   "metadata": {},
   "outputs": [
    {
     "data": {
      "text/plain": [
       "LogisticRegression(max_iter=200, random_state=1)"
      ]
     },
     "execution_count": 37,
     "metadata": {},
     "output_type": "execute_result"
    }
   ],
   "source": [
    "lpa_classifier.fit(lpa_X_train, lpa_y_train)"
   ]
  },
  {
   "cell_type": "code",
   "execution_count": 38,
   "metadata": {},
   "outputs": [
    {
     "name": "stdout",
     "output_type": "stream",
     "text": [
      "Training Data Score: 0.7034883720930233\n",
      "Testing Data Score: 0.0\n"
     ]
    }
   ],
   "source": [
    "print(f\"Training Data Score: {lpa_classifier.score(lpa_X_train, lpa_y_train)}\")\n",
    "print(f\"Testing Data Score: {lpa_classifier.score(lpa_X_test, lpa_y_test)}\")"
   ]
  },
  {
   "cell_type": "code",
   "execution_count": 39,
   "metadata": {},
   "outputs": [
    {
     "data": {
      "text/html": [
       "<div>\n",
       "<style scoped>\n",
       "    .dataframe tbody tr th:only-of-type {\n",
       "        vertical-align: middle;\n",
       "    }\n",
       "\n",
       "    .dataframe tbody tr th {\n",
       "        vertical-align: top;\n",
       "    }\n",
       "\n",
       "    .dataframe thead th {\n",
       "        text-align: right;\n",
       "    }\n",
       "</style>\n",
       "<table border=\"1\" class=\"dataframe\">\n",
       "  <thead>\n",
       "    <tr style=\"text-align: right;\">\n",
       "      <th></th>\n",
       "      <th></th>\n",
       "      <th></th>\n",
       "      <th>Prediction</th>\n",
       "      <th>Actual</th>\n",
       "    </tr>\n",
       "    <tr>\n",
       "      <th>Date</th>\n",
       "      <th>HomeTeam</th>\n",
       "      <th>AwayTeam</th>\n",
       "      <th></th>\n",
       "      <th></th>\n",
       "    </tr>\n",
       "  </thead>\n",
       "  <tbody>\n",
       "    <tr>\n",
       "      <th>2020-10-17</th>\n",
       "      <th>Everton</th>\n",
       "      <th>Liverpool</th>\n",
       "      <td>0</td>\n",
       "      <td>1</td>\n",
       "    </tr>\n",
       "  </tbody>\n",
       "</table>\n",
       "</div>"
      ],
      "text/plain": [
       "                               Prediction  Actual\n",
       "Date       HomeTeam AwayTeam                     \n",
       "2020-10-17 Everton  Liverpool           0       1"
      ]
     },
     "execution_count": 39,
     "metadata": {},
     "output_type": "execute_result"
    }
   ],
   "source": [
    "predictions = lpa_classifier.predict(lpa_X_test)\n",
    "results = pd.DataFrame({\"Prediction\": predictions, \"Actual\": lpa_y_test})\n",
    "results.head(20)"
   ]
  },
  {
   "cell_type": "markdown",
   "metadata": {},
   "source": [
    "## Chelsea (Home 10:00am)"
   ]
  },
  {
   "cell_type": "code",
   "execution_count": 40,
   "metadata": {},
   "outputs": [],
   "source": [
    "#Export to Excel, to add a cell in prematch stats (HomeTeam/AwayTeam and Book Maker odds). Deleted top and bottom row from CSV. \n",
    "#Now, For Example, the 5/1/2011 (Game2), has LiverPool versing NewCastle, but has the results of the Liverpool/Tottenham (Game1), to use as features for Game2.\n",
    "#Commenting out CSVs to prevent multiple saved files.\n",
    "\n",
    "\n",
    "#chelsea_home_t_df.to_csv('Chelsea_Home_T_p.csv')\n",
    "#chelsea_home_df.to_csv('Chelsea_Home_p.csv')"
   ]
  },
  {
   "cell_type": "code",
   "execution_count": 41,
   "metadata": {},
   "outputs": [],
   "source": [
    "#Read in newly adjusted Chelsea CSVs as the HomeTeam\n",
    "chelsea_home_p = Path(\"RESOURCES/TeamCSVs2020/Chelsea_Home_p.csv\")\n",
    "chelsea_home_p_t = Path(\"RESOURCES/TeamCSVs2020/Chelsea_Home_T_p.csv\")\n",
    "#Read in CSVs\n",
    "chelsea_home_p = pd.read_csv(chelsea_home_p)\n",
    "chelsea_home_p_t = pd.read_csv(chelsea_home_p_t)"
   ]
  },
  {
   "cell_type": "code",
   "execution_count": 42,
   "metadata": {},
   "outputs": [],
   "source": [
    "#Set Index of Date/HomeTeam/AwayTeam for Chelsea Home\n",
    "chelsea_home_p = chelsea_home_p.set_index(['Date', 'HomeTeam', 'AwayTeam'], drop = True)\n",
    "chelsea_home_p_t = chelsea_home_p_t.set_index(['Date', 'HomeTeam', 'AwayTeam'], drop = True)"
   ]
  },
  {
   "cell_type": "code",
   "execution_count": 43,
   "metadata": {},
   "outputs": [],
   "source": [
    "#Drop Columns that use Floats from DataSets\n",
    "chelsea_home_p = chelsea_home_p.drop(['FT_Result', 'HT_Result'], axis = 1) \n",
    "chelsea_home_p_t = chelsea_home_p_t.drop(['FT_Result', 'HT_Result'], axis = 1)"
   ]
  },
  {
   "cell_type": "code",
   "execution_count": 44,
   "metadata": {},
   "outputs": [],
   "source": [
    "#Declare Independent and Dependent Variables\n",
    "chh_y_train = chelsea_home_p['Result']\n",
    "chh_X_train = chelsea_home_p[['FT_HomeGoals', 'HT_HomeGoals','HomeShotsonTarget', 'HomeFouls','HomeYellowCards', 'HomeRedCards','Bet365_HomeWin_Odds', 'WilliamHill_HomeWin_Odds']]\n",
    "chh_y_test = chelsea_home_p_t['Result']\n",
    "chh_X_test = chelsea_home_p_t[['FT_HomeGoals', 'HT_HomeGoals','HomeShotsonTarget', 'HomeFouls','HomeYellowCards', 'HomeRedCards','Bet365_HomeWin_Odds', 'WilliamHill_HomeWin_Odds']]"
   ]
  },
  {
   "cell_type": "code",
   "execution_count": 45,
   "metadata": {},
   "outputs": [
    {
     "data": {
      "text/plain": [
       "LogisticRegression(max_iter=200, random_state=1)"
      ]
     },
     "execution_count": 45,
     "metadata": {},
     "output_type": "execute_result"
    }
   ],
   "source": [
    "from sklearn.linear_model import LogisticRegression\n",
    "chh_classifier = LogisticRegression(solver='lbfgs',\n",
    "                                max_iter=200,\n",
    "                                random_state=1)\n",
    "chh_classifier"
   ]
  },
  {
   "cell_type": "code",
   "execution_count": 46,
   "metadata": {},
   "outputs": [
    {
     "data": {
      "text/plain": [
       "LogisticRegression(max_iter=200, random_state=1)"
      ]
     },
     "execution_count": 46,
     "metadata": {},
     "output_type": "execute_result"
    }
   ],
   "source": [
    "chh_classifier.fit(chh_X_train, chh_y_train)"
   ]
  },
  {
   "cell_type": "code",
   "execution_count": 47,
   "metadata": {},
   "outputs": [
    {
     "name": "stdout",
     "output_type": "stream",
     "text": [
      "Training Data Score: 0.6802325581395349\n",
      "Testing Data Score: 1.0\n"
     ]
    }
   ],
   "source": [
    "print(f\"Training Data Score: {chh_classifier.score(chh_X_train, chh_y_train)}\")\n",
    "print(f\"Testing Data Score: {chh_classifier.score(chh_X_test, chh_y_test)}\")"
   ]
  },
  {
   "cell_type": "code",
   "execution_count": 48,
   "metadata": {},
   "outputs": [
    {
     "data": {
      "text/html": [
       "<div>\n",
       "<style scoped>\n",
       "    .dataframe tbody tr th:only-of-type {\n",
       "        vertical-align: middle;\n",
       "    }\n",
       "\n",
       "    .dataframe tbody tr th {\n",
       "        vertical-align: top;\n",
       "    }\n",
       "\n",
       "    .dataframe thead th {\n",
       "        text-align: right;\n",
       "    }\n",
       "</style>\n",
       "<table border=\"1\" class=\"dataframe\">\n",
       "  <thead>\n",
       "    <tr style=\"text-align: right;\">\n",
       "      <th></th>\n",
       "      <th></th>\n",
       "      <th></th>\n",
       "      <th>Prediction</th>\n",
       "      <th>Actual</th>\n",
       "    </tr>\n",
       "    <tr>\n",
       "      <th>Date</th>\n",
       "      <th>HomeTeam</th>\n",
       "      <th>AwayTeam</th>\n",
       "      <th></th>\n",
       "      <th></th>\n",
       "    </tr>\n",
       "  </thead>\n",
       "  <tbody>\n",
       "    <tr>\n",
       "      <th>10/17/2020</th>\n",
       "      <th>Chelsea</th>\n",
       "      <th>Southampton</th>\n",
       "      <td>1</td>\n",
       "      <td>1</td>\n",
       "    </tr>\n",
       "  </tbody>\n",
       "</table>\n",
       "</div>"
      ],
      "text/plain": [
       "                                 Prediction  Actual\n",
       "Date       HomeTeam AwayTeam                       \n",
       "10/17/2020 Chelsea  Southampton           1       1"
      ]
     },
     "execution_count": 48,
     "metadata": {},
     "output_type": "execute_result"
    }
   ],
   "source": [
    "predictions = chh_classifier.predict(chh_X_test)\n",
    "results = pd.DataFrame({\"Prediction\": predictions, \"Actual\": chh_y_test})\n",
    "results.head(20)"
   ]
  },
  {
   "cell_type": "markdown",
   "metadata": {},
   "source": [
    "## Southampton (Away 10:00am)"
   ]
  },
  {
   "cell_type": "code",
   "execution_count": 49,
   "metadata": {},
   "outputs": [],
   "source": [
    "#Export to Excel, to add a cell in prematch stats (HomeTeam/AwayTeam and Book Maker odds). Deleted top and bottom row from CSV. \n",
    "#Now, For Example, the 5/1/2011 (Game2), has Southampton versing NewCastle, but has the results of the Southampton/Tottenham (Game1), to use as features for Game2.\n",
    "#Commenting out CSVs to prevent multiple saved files.\n",
    "\n",
    "\n",
    "#southampton_away_t_df.to_csv('Southampton_Away_T_p.csv')\n",
    "#southampton_away_df.to_csv('Southampton_Away_p.csv')"
   ]
  },
  {
   "cell_type": "code",
   "execution_count": 50,
   "metadata": {},
   "outputs": [],
   "source": [
    "#Read in newly adjusted Southampton CSVs as the AwayTeam\n",
    "southampton_away_p = Path(\"RESOURCES/TeamCSVs2020/Southampton_Away_p.csv\")\n",
    "southampton_away_p_t = Path(\"RESOURCES/TeamCSVs2020/Southampton_Away_T_p.csv\")\n",
    "#Read in CSVs\n",
    "southampton_away_p = pd.read_csv(southampton_away_p)\n",
    "southampton_away_p_t = pd.read_csv(southampton_away_p_t)"
   ]
  },
  {
   "cell_type": "code",
   "execution_count": 51,
   "metadata": {},
   "outputs": [],
   "source": [
    "#Set Index of Date/HomeTeam/AwayTeam for Southampton Away\n",
    "southampton_away_p = southampton_away_p.set_index(['Date', 'HomeTeam', 'AwayTeam'], drop = True)\n",
    "southampton_away_p_t = southampton_away_p_t.set_index(['Date', 'HomeTeam', 'AwayTeam'], drop = True)"
   ]
  },
  {
   "cell_type": "code",
   "execution_count": 52,
   "metadata": {},
   "outputs": [],
   "source": [
    "#Drop Columns that use Floats from DataSets\n",
    "southampton_away_p = southampton_away_p.drop(['FT_Result', 'HT_Result'], axis = 1) \n",
    "southampton_away_p_t = southampton_away_p_t.drop(['FT_Result', 'HT_Result'], axis = 1)"
   ]
  },
  {
   "cell_type": "code",
   "execution_count": 53,
   "metadata": {},
   "outputs": [],
   "source": [
    "#Declare Dependent/Independent Variables\n",
    "soa_y_train = southampton_away_p['Result']\n",
    "soa_X_train = southampton_away_p[['FT_AwayGoals', 'HT_AwayGoals','AwayShotsonTarget', 'AwayFouls','AwayYellowCards', 'AwayRedCards','Bet365_AwayWin_Odds', 'WilliamHill_AwayWin_Odds']]\n",
    "soa_y_test = southampton_away_p_t['Result']\n",
    "soa_X_test = southampton_away_p_t[['FT_AwayGoals', 'HT_AwayGoals','AwayShotsonTarget', 'AwayFouls','AwayYellowCards', 'AwayRedCards','Bet365_AwayWin_Odds', 'WilliamHill_AwayWin_Odds']]"
   ]
  },
  {
   "cell_type": "code",
   "execution_count": 54,
   "metadata": {},
   "outputs": [
    {
     "data": {
      "text/plain": [
       "LogisticRegression(max_iter=200, random_state=1)"
      ]
     },
     "execution_count": 54,
     "metadata": {},
     "output_type": "execute_result"
    }
   ],
   "source": [
    "from sklearn.linear_model import LogisticRegression\n",
    "soa_classifier = LogisticRegression(solver='lbfgs',\n",
    "                                max_iter=200,\n",
    "                                random_state=1)\n",
    "soa_classifier"
   ]
  },
  {
   "cell_type": "code",
   "execution_count": 55,
   "metadata": {},
   "outputs": [
    {
     "data": {
      "text/plain": [
       "LogisticRegression(max_iter=200, random_state=1)"
      ]
     },
     "execution_count": 55,
     "metadata": {},
     "output_type": "execute_result"
    }
   ],
   "source": [
    "soa_classifier.fit(soa_X_train, soa_y_train)"
   ]
  },
  {
   "cell_type": "code",
   "execution_count": 56,
   "metadata": {},
   "outputs": [
    {
     "name": "stdout",
     "output_type": "stream",
     "text": [
      "Training Data Score: 0.6791044776119403\n",
      "Testing Data Score: 0.0\n"
     ]
    }
   ],
   "source": [
    "print(f\"Training Data Score: {soa_classifier.score(soa_X_train, soa_y_train)}\")\n",
    "print(f\"Testing Data Score: {soa_classifier.score(soa_X_test, soa_y_test)}\")\n"
   ]
  },
  {
   "cell_type": "code",
   "execution_count": 57,
   "metadata": {},
   "outputs": [
    {
     "data": {
      "text/html": [
       "<div>\n",
       "<style scoped>\n",
       "    .dataframe tbody tr th:only-of-type {\n",
       "        vertical-align: middle;\n",
       "    }\n",
       "\n",
       "    .dataframe tbody tr th {\n",
       "        vertical-align: top;\n",
       "    }\n",
       "\n",
       "    .dataframe thead th {\n",
       "        text-align: right;\n",
       "    }\n",
       "</style>\n",
       "<table border=\"1\" class=\"dataframe\">\n",
       "  <thead>\n",
       "    <tr style=\"text-align: right;\">\n",
       "      <th></th>\n",
       "      <th></th>\n",
       "      <th></th>\n",
       "      <th>Prediction</th>\n",
       "      <th>Actual</th>\n",
       "    </tr>\n",
       "    <tr>\n",
       "      <th>Date</th>\n",
       "      <th>HomeTeam</th>\n",
       "      <th>AwayTeam</th>\n",
       "      <th></th>\n",
       "      <th></th>\n",
       "    </tr>\n",
       "  </thead>\n",
       "  <tbody>\n",
       "    <tr>\n",
       "      <th>2020-10-17</th>\n",
       "      <th>Chelsea</th>\n",
       "      <th>Southampton</th>\n",
       "      <td>0</td>\n",
       "      <td>1</td>\n",
       "    </tr>\n",
       "  </tbody>\n",
       "</table>\n",
       "</div>"
      ],
      "text/plain": [
       "                                 Prediction  Actual\n",
       "Date       HomeTeam AwayTeam                       \n",
       "2020-10-17 Chelsea  Southampton           0       1"
      ]
     },
     "execution_count": 57,
     "metadata": {},
     "output_type": "execute_result"
    }
   ],
   "source": [
    "predictions = soa_classifier.predict(soa_X_test)\n",
    "results = pd.DataFrame({\"Prediction\": predictions, \"Actual\": soa_y_test})\n",
    "results.head(20)"
   ]
  },
  {
   "cell_type": "markdown",
   "metadata": {},
   "source": [
    "## ManCity (Home 12:30pm)"
   ]
  },
  {
   "cell_type": "code",
   "execution_count": 58,
   "metadata": {},
   "outputs": [],
   "source": [
    "#Export to Excel, to add a cell in prematch stats (HomeTeam/AwayTeam and Book Maker odds). Deleted top and bottom row from CSV. \n",
    "#Now, For Example, the 5/1/2011 (Game2), has LiverPool versing NewCastle, but has the results of the Liverpool/Tottenham (Game1), to use as features for Game2.\n",
    "#Commenting out CSVs to prevent multiple saved files.\n",
    "\n",
    "\n",
    "#mancity_home_t_df.to_csv('Mancity_Home_T_p.csv')\n",
    "#mancity_home_df.to_csv('Mancity_Home_p.csv')"
   ]
  },
  {
   "cell_type": "code",
   "execution_count": 59,
   "metadata": {},
   "outputs": [],
   "source": [
    "#Read in newly adjusted Mancity CSVs as the HomeTeam\n",
    "mancity_home_p = Path(\"RESOURCES/TeamCSVs2020/Mancity_Home_p.csv\")\n",
    "mancity_home_p_t = Path(\"RESOURCES/TeamCSVs2020/Mancity_Home_T_p.csv\")\n",
    "#Read in CSVs\n",
    "mancity_home_p = pd.read_csv(mancity_home_p)\n",
    "mancity_home_p_t = pd.read_csv(mancity_home_p_t)"
   ]
  },
  {
   "cell_type": "code",
   "execution_count": 60,
   "metadata": {},
   "outputs": [],
   "source": [
    "#Set Index of Date/HomeTeam/AwayTeam for Mancity Home\n",
    "mancity_home_p = mancity_home_p.set_index(['Date', 'HomeTeam', 'AwayTeam'], drop = True)\n",
    "mancity_home_p_t = mancity_home_p_t.set_index(['Date', 'HomeTeam', 'AwayTeam'], drop = True)"
   ]
  },
  {
   "cell_type": "code",
   "execution_count": 61,
   "metadata": {},
   "outputs": [],
   "source": [
    "#Drop Columns that use Floats from DataSets\n",
    "mancity_home_p = mancity_home_p.drop(['FT_Result', 'HT_Result'], axis = 1) \n",
    "mancity_home_p_t = mancity_home_p_t.drop(['FT_Result', 'HT_Result'], axis = 1)"
   ]
  },
  {
   "cell_type": "code",
   "execution_count": 62,
   "metadata": {},
   "outputs": [],
   "source": [
    "#Declare Independent and Dependent Variables\n",
    "mch_y_train = mancity_home_p['Result']\n",
    "mch_X_train = mancity_home_p[['FT_HomeGoals', 'HT_HomeGoals','HomeShotsonTarget', 'HomeFouls','HomeYellowCards', 'HomeRedCards','Bet365_HomeWin_Odds', 'WilliamHill_HomeWin_Odds']]\n",
    "mch_y_test = mancity_home_p_t['Result']\n",
    "mch_X_test = mancity_home_p_t[['FT_HomeGoals', 'HT_HomeGoals','HomeShotsonTarget', 'HomeFouls','HomeYellowCards', 'HomeRedCards','Bet365_HomeWin_Odds', 'WilliamHill_HomeWin_Odds']]"
   ]
  },
  {
   "cell_type": "code",
   "execution_count": 63,
   "metadata": {},
   "outputs": [
    {
     "data": {
      "text/plain": [
       "LogisticRegression(max_iter=200, random_state=1)"
      ]
     },
     "execution_count": 63,
     "metadata": {},
     "output_type": "execute_result"
    }
   ],
   "source": [
    "from sklearn.linear_model import LogisticRegression\n",
    "mch_classifier = LogisticRegression(solver='lbfgs',\n",
    "                                max_iter=200,\n",
    "                                random_state=1)\n",
    "mch_classifier"
   ]
  },
  {
   "cell_type": "code",
   "execution_count": 64,
   "metadata": {},
   "outputs": [
    {
     "data": {
      "text/plain": [
       "LogisticRegression(max_iter=200, random_state=1)"
      ]
     },
     "execution_count": 64,
     "metadata": {},
     "output_type": "execute_result"
    }
   ],
   "source": [
    "mch_classifier.fit(mch_X_train, mch_y_train)"
   ]
  },
  {
   "cell_type": "code",
   "execution_count": 65,
   "metadata": {},
   "outputs": [
    {
     "name": "stdout",
     "output_type": "stream",
     "text": [
      "Training Data Score: 0.8888888888888888\n",
      "Testing Data Score: 1.0\n"
     ]
    }
   ],
   "source": [
    "print(f\"Training Data Score: {mch_classifier.score(mch_X_train, mch_y_train)}\")\n",
    "print(f\"Testing Data Score: {mch_classifier.score(mch_X_test, mch_y_test)}\")"
   ]
  },
  {
   "cell_type": "code",
   "execution_count": 66,
   "metadata": {},
   "outputs": [
    {
     "data": {
      "text/html": [
       "<div>\n",
       "<style scoped>\n",
       "    .dataframe tbody tr th:only-of-type {\n",
       "        vertical-align: middle;\n",
       "    }\n",
       "\n",
       "    .dataframe tbody tr th {\n",
       "        vertical-align: top;\n",
       "    }\n",
       "\n",
       "    .dataframe thead th {\n",
       "        text-align: right;\n",
       "    }\n",
       "</style>\n",
       "<table border=\"1\" class=\"dataframe\">\n",
       "  <thead>\n",
       "    <tr style=\"text-align: right;\">\n",
       "      <th></th>\n",
       "      <th></th>\n",
       "      <th></th>\n",
       "      <th>Prediction</th>\n",
       "      <th>Actual</th>\n",
       "    </tr>\n",
       "    <tr>\n",
       "      <th>Date</th>\n",
       "      <th>HomeTeam</th>\n",
       "      <th>AwayTeam</th>\n",
       "      <th></th>\n",
       "      <th></th>\n",
       "    </tr>\n",
       "  </thead>\n",
       "  <tbody>\n",
       "    <tr>\n",
       "      <th>10/17/2020</th>\n",
       "      <th>Man City</th>\n",
       "      <th>Arsenal</th>\n",
       "      <td>1</td>\n",
       "      <td>1</td>\n",
       "    </tr>\n",
       "  </tbody>\n",
       "</table>\n",
       "</div>"
      ],
      "text/plain": [
       "                              Prediction  Actual\n",
       "Date       HomeTeam AwayTeam                    \n",
       "10/17/2020 Man City Arsenal            1       1"
      ]
     },
     "execution_count": 66,
     "metadata": {},
     "output_type": "execute_result"
    }
   ],
   "source": [
    "predictions = mch_classifier.predict(mch_X_test)\n",
    "results = pd.DataFrame({\"Prediction\": predictions, \"Actual\": mch_y_test})\n",
    "results.head(20)"
   ]
  },
  {
   "cell_type": "markdown",
   "metadata": {},
   "source": [
    "## Arsenal (Away 12:30pm)"
   ]
  },
  {
   "cell_type": "code",
   "execution_count": 67,
   "metadata": {},
   "outputs": [],
   "source": [
    "#Export to Excel, to add a cell in prematch stats (HomeTeam/AwayTeam and Book Maker odds). Deleted top and bottom row from CSV. \n",
    "#Now, For Example, the 5/1/2011 (Game2), has Arsenal versing NewCastle, but has the results of the Arsenal/Tottenham (Game1), to use as features for Game2.\n",
    "#Commenting out CSVs to prevent multiple saved files.\n",
    "\n",
    "\n",
    "#arsenal_away_t_df.to_csv('Arsenal_Away_T_p.csv')\n",
    "#arsenal_away_df.to_csv('Arsenal_Away_p.csv')"
   ]
  },
  {
   "cell_type": "code",
   "execution_count": 68,
   "metadata": {},
   "outputs": [],
   "source": [
    "#Read in newly adjusted Arsenal CSVs as the AwayTeam\n",
    "arsenal_away_p = Path(\"RESOURCES/TeamCSVs2020/Arsenal_Away_p.csv\")\n",
    "arsenal_away_p_t = Path(\"RESOURCES/TeamCSVs2020/Arsenal_Away_T_p.csv\")\n",
    "#Read in CSVs\n",
    "arsenal_away_p = pd.read_csv(arsenal_away_p)\n",
    "arsenal_away_p_t = pd.read_csv(arsenal_away_p_t)"
   ]
  },
  {
   "cell_type": "code",
   "execution_count": 69,
   "metadata": {},
   "outputs": [],
   "source": [
    "#Set Index of Date/HomeTeam/AwayTeam for Arsenal Away\n",
    "arsenal_away_p = arsenal_away_p.set_index(['Date', 'HomeTeam', 'AwayTeam'], drop = True)\n",
    "arsenal_away_p_t = arsenal_away_p_t.set_index(['Date', 'HomeTeam', 'AwayTeam'], drop = True)"
   ]
  },
  {
   "cell_type": "code",
   "execution_count": 70,
   "metadata": {},
   "outputs": [],
   "source": [
    "#Drop Columns that use Floats from DataSets\n",
    "arsenal_away_p = arsenal_away_p.drop(['FT_Result', 'HT_Result'], axis = 1) \n",
    "arsenal_away_p_t = arsenal_away_p_t.drop(['FT_Result', 'HT_Result'], axis = 1)"
   ]
  },
  {
   "cell_type": "code",
   "execution_count": 71,
   "metadata": {},
   "outputs": [],
   "source": [
    "#Declare Dependent/Independent Variables\n",
    "ara_y_train = arsenal_away_p['Result']\n",
    "ara_X_train = arsenal_away_p[['FT_AwayGoals', 'HT_AwayGoals','AwayShotsonTarget', 'AwayFouls','AwayYellowCards', 'AwayRedCards','Bet365_AwayWin_Odds', 'WilliamHill_AwayWin_Odds']]\n",
    "ara_y_test = arsenal_away_p_t['Result']\n",
    "ara_X_test = arsenal_away_p_t[['FT_AwayGoals', 'HT_AwayGoals','AwayShotsonTarget', 'AwayFouls','AwayYellowCards', 'AwayRedCards','Bet365_AwayWin_Odds', 'WilliamHill_AwayWin_Odds']]"
   ]
  },
  {
   "cell_type": "code",
   "execution_count": 72,
   "metadata": {},
   "outputs": [
    {
     "data": {
      "text/plain": [
       "LogisticRegression(max_iter=200, random_state=1)"
      ]
     },
     "execution_count": 72,
     "metadata": {},
     "output_type": "execute_result"
    }
   ],
   "source": [
    "from sklearn.linear_model import LogisticRegression\n",
    "ara_classifier = LogisticRegression(solver='lbfgs',\n",
    "                                max_iter=200,\n",
    "                                random_state=1)\n",
    "ara_classifier"
   ]
  },
  {
   "cell_type": "code",
   "execution_count": 73,
   "metadata": {},
   "outputs": [
    {
     "data": {
      "text/plain": [
       "LogisticRegression(max_iter=200, random_state=1)"
      ]
     },
     "execution_count": 73,
     "metadata": {},
     "output_type": "execute_result"
    }
   ],
   "source": [
    "ara_classifier.fit(ara_X_train, ara_y_train)"
   ]
  },
  {
   "cell_type": "code",
   "execution_count": 74,
   "metadata": {},
   "outputs": [
    {
     "name": "stdout",
     "output_type": "stream",
     "text": [
      "Training Data Score: 0.7558139534883721\n",
      "Testing Data Score: 1.0\n"
     ]
    }
   ],
   "source": [
    "print(f\"Training Data Score: {ara_classifier.score(ara_X_train, ara_y_train)}\")\n",
    "print(f\"Testing Data Score: {ara_classifier.score(ara_X_test, ara_y_test)}\")"
   ]
  },
  {
   "cell_type": "code",
   "execution_count": 75,
   "metadata": {},
   "outputs": [
    {
     "data": {
      "text/html": [
       "<div>\n",
       "<style scoped>\n",
       "    .dataframe tbody tr th:only-of-type {\n",
       "        vertical-align: middle;\n",
       "    }\n",
       "\n",
       "    .dataframe tbody tr th {\n",
       "        vertical-align: top;\n",
       "    }\n",
       "\n",
       "    .dataframe thead th {\n",
       "        text-align: right;\n",
       "    }\n",
       "</style>\n",
       "<table border=\"1\" class=\"dataframe\">\n",
       "  <thead>\n",
       "    <tr style=\"text-align: right;\">\n",
       "      <th></th>\n",
       "      <th></th>\n",
       "      <th></th>\n",
       "      <th>Prediction</th>\n",
       "      <th>Actual</th>\n",
       "    </tr>\n",
       "    <tr>\n",
       "      <th>Date</th>\n",
       "      <th>HomeTeam</th>\n",
       "      <th>AwayTeam</th>\n",
       "      <th></th>\n",
       "      <th></th>\n",
       "    </tr>\n",
       "  </thead>\n",
       "  <tbody>\n",
       "    <tr>\n",
       "      <th>10/17/2020</th>\n",
       "      <th>Man City</th>\n",
       "      <th>Arsenal</th>\n",
       "      <td>1</td>\n",
       "      <td>1</td>\n",
       "    </tr>\n",
       "  </tbody>\n",
       "</table>\n",
       "</div>"
      ],
      "text/plain": [
       "                              Prediction  Actual\n",
       "Date       HomeTeam AwayTeam                    \n",
       "10/17/2020 Man City Arsenal            1       1"
      ]
     },
     "execution_count": 75,
     "metadata": {},
     "output_type": "execute_result"
    }
   ],
   "source": [
    "predictions = ara_classifier.predict(ara_X_test)\n",
    "results = pd.DataFrame({\"Prediction\": predictions, \"Actual\": ara_y_test})\n",
    "results.head(20)"
   ]
  },
  {
   "cell_type": "markdown",
   "metadata": {},
   "source": [
    "## Newcastle (Home 3:00pm)"
   ]
  },
  {
   "cell_type": "code",
   "execution_count": 76,
   "metadata": {},
   "outputs": [],
   "source": [
    "#Export to Excel, to add a cell in prematch stats (HomeTeam/AwayTeam and Book Maker odds). Deleted top and bottom row from CSV. \n",
    "#Now, For Example, the 5/1/2011 (Game2), has LiverPool versing NewCastle, but has the results of the Liverpool/Tottenham (Game1), to use as features for Game2.\n",
    "#Commenting out CSVs to prevent multiple saved files.\n",
    "\n",
    "\n",
    "#newcastle_home_t_df.to_csv('Newcastle_Home_T_p.csv')\n",
    "#newcastle_home_df.to_csv('Newcastle_Home_p.csv')"
   ]
  },
  {
   "cell_type": "code",
   "execution_count": 77,
   "metadata": {},
   "outputs": [],
   "source": [
    "#Read in newly adjusted Newcastle CSVs as the HomeTeam\n",
    "newcastle_home_p = Path(\"RESOURCES/TeamCSVs2020/Newcastle_Home_p.csv\")\n",
    "newcastle_home_p_t = Path(\"RESOURCES/TeamCSVs2020/Newcastle_Home_T_p.csv\")\n",
    "#Read in CSVs\n",
    "newcastle_home_p = pd.read_csv(newcastle_home_p)\n",
    "newcastle_home_p_t = pd.read_csv(newcastle_home_p_t)"
   ]
  },
  {
   "cell_type": "code",
   "execution_count": 78,
   "metadata": {},
   "outputs": [],
   "source": [
    "#Set Index of Date/HomeTeam/AwayTeam for Newcastle Home\n",
    "newcastle_home_p = newcastle_home_p.set_index(['Date', 'HomeTeam', 'AwayTeam'], drop = True)\n",
    "newcastle_home_p_t = newcastle_home_p_t.set_index(['Date', 'HomeTeam', 'AwayTeam'], drop = True)\n"
   ]
  },
  {
   "cell_type": "code",
   "execution_count": 79,
   "metadata": {},
   "outputs": [],
   "source": [
    "#Drop Columns that use Floats from DataSets\n",
    "newcastle_home_p = newcastle_home_p.drop(['FT_Result', 'HT_Result'], axis = 1) \n",
    "newcastle_home_p_t = newcastle_home_p_t.drop(['FT_Result', 'HT_Result'], axis = 1)"
   ]
  },
  {
   "cell_type": "code",
   "execution_count": 80,
   "metadata": {},
   "outputs": [],
   "source": [
    "#Declare Independent and Dependent Variables\n",
    "nch_y_train = newcastle_home_p['Result']\n",
    "nch_X_train = newcastle_home_p[['FT_HomeGoals', 'HT_HomeGoals','HomeShotsonTarget', 'HomeFouls','HomeYellowCards', 'HomeRedCards','Bet365_HomeWin_Odds', 'WilliamHill_HomeWin_Odds']]\n",
    "nch_y_test = newcastle_home_p_t['Result']\n",
    "nch_X_test = newcastle_home_p_t[['FT_HomeGoals', 'HT_HomeGoals','HomeShotsonTarget', 'HomeFouls','HomeYellowCards', 'HomeRedCards','Bet365_HomeWin_Odds', 'WilliamHill_HomeWin_Odds']]"
   ]
  },
  {
   "cell_type": "code",
   "execution_count": 81,
   "metadata": {},
   "outputs": [
    {
     "data": {
      "text/plain": [
       "LogisticRegression(max_iter=200, random_state=1)"
      ]
     },
     "execution_count": 81,
     "metadata": {},
     "output_type": "execute_result"
    }
   ],
   "source": [
    "from sklearn.linear_model import LogisticRegression\n",
    "nch_classifier = LogisticRegression(solver='lbfgs',\n",
    "                                max_iter=200,\n",
    "                                random_state=1)\n",
    "nch_classifier"
   ]
  },
  {
   "cell_type": "code",
   "execution_count": 82,
   "metadata": {},
   "outputs": [
    {
     "data": {
      "text/plain": [
       "LogisticRegression(max_iter=200, random_state=1)"
      ]
     },
     "execution_count": 82,
     "metadata": {},
     "output_type": "execute_result"
    }
   ],
   "source": [
    "nch_classifier.fit(nch_X_train, nch_y_train)"
   ]
  },
  {
   "cell_type": "code",
   "execution_count": 83,
   "metadata": {},
   "outputs": [
    {
     "name": "stdout",
     "output_type": "stream",
     "text": [
      "Training Data Score: 0.6013071895424836\n",
      "Testing Data Score: 1.0\n"
     ]
    }
   ],
   "source": [
    "print(f\"Training Data Score: {nch_classifier.score(nch_X_train, nch_y_train)}\")\n",
    "print(f\"Testing Data Score: {nch_classifier.score(nch_X_test, nch_y_test)}\")"
   ]
  },
  {
   "cell_type": "code",
   "execution_count": 84,
   "metadata": {},
   "outputs": [
    {
     "data": {
      "text/html": [
       "<div>\n",
       "<style scoped>\n",
       "    .dataframe tbody tr th:only-of-type {\n",
       "        vertical-align: middle;\n",
       "    }\n",
       "\n",
       "    .dataframe tbody tr th {\n",
       "        vertical-align: top;\n",
       "    }\n",
       "\n",
       "    .dataframe thead th {\n",
       "        text-align: right;\n",
       "    }\n",
       "</style>\n",
       "<table border=\"1\" class=\"dataframe\">\n",
       "  <thead>\n",
       "    <tr style=\"text-align: right;\">\n",
       "      <th></th>\n",
       "      <th></th>\n",
       "      <th></th>\n",
       "      <th>Prediction</th>\n",
       "      <th>Actual</th>\n",
       "    </tr>\n",
       "    <tr>\n",
       "      <th>Date</th>\n",
       "      <th>HomeTeam</th>\n",
       "      <th>AwayTeam</th>\n",
       "      <th></th>\n",
       "      <th></th>\n",
       "    </tr>\n",
       "  </thead>\n",
       "  <tbody>\n",
       "    <tr>\n",
       "      <th>10/17/2020</th>\n",
       "      <th>Newcastle</th>\n",
       "      <th>Man United</th>\n",
       "      <td>0</td>\n",
       "      <td>0</td>\n",
       "    </tr>\n",
       "  </tbody>\n",
       "</table>\n",
       "</div>"
      ],
      "text/plain": [
       "                                 Prediction  Actual\n",
       "Date       HomeTeam  AwayTeam                      \n",
       "10/17/2020 Newcastle Man United           0       0"
      ]
     },
     "execution_count": 84,
     "metadata": {},
     "output_type": "execute_result"
    }
   ],
   "source": [
    "predictions = nch_classifier.predict(nch_X_test)\n",
    "results = pd.DataFrame({\"Prediction\": predictions, \"Actual\": nch_y_test})\n",
    "results.head(20)"
   ]
  },
  {
   "cell_type": "markdown",
   "metadata": {},
   "source": [
    "## Man United (Away 3:00pm)"
   ]
  },
  {
   "cell_type": "code",
   "execution_count": 85,
   "metadata": {},
   "outputs": [],
   "source": [
    "#Export to Excel, to add a cell in prematch stats (HomeTeam/AwayTeam and Book Maker odds). Deleted top and bottom row from CSV. \n",
    "#Now, For Example, the 5/1/2011 (Game2), has Manutd versing NewCastle, but has the results of the Manutd/Tottenham (Game1), to use as features for Game2.\n",
    "#Commenting out CSVs to prevent multiple saved files.\n",
    "\n",
    "\n",
    "#manutd_away_t_df.to_csv('Manutd_Away_T_p.csv')\n",
    "#manutd_away_df.to_csv('Manutd_Away_p.csv')"
   ]
  },
  {
   "cell_type": "code",
   "execution_count": 86,
   "metadata": {},
   "outputs": [],
   "source": [
    "#Read in newly adjusted Manutd CSVs as the AwayTeam\n",
    "manutd_away_p = Path(\"RESOURCES/TeamCSVs2020/Manutd_Away_p.csv\")\n",
    "manutd_away_p_t = Path(\"RESOURCES/TeamCSVs2020/Manutd_Away_T_p.csv\")\n",
    "#Read in CSVs\n",
    "manutd_away_p = pd.read_csv(manutd_away_p)\n",
    "manutd_away_p_t = pd.read_csv(manutd_away_p_t)"
   ]
  },
  {
   "cell_type": "code",
   "execution_count": 87,
   "metadata": {},
   "outputs": [],
   "source": [
    "#Set Index of Date/HomeTeam/AwayTeam for Manutd Away\n",
    "manutd_away_p = manutd_away_p.set_index(['Date', 'HomeTeam', 'AwayTeam'], drop = True)\n",
    "manutd_away_p_t = manutd_away_p_t.set_index(['Date', 'HomeTeam', 'AwayTeam'], drop = True)"
   ]
  },
  {
   "cell_type": "code",
   "execution_count": 88,
   "metadata": {},
   "outputs": [],
   "source": [
    "#Drop Columns that use Floats from DataSets\n",
    "manutd_away_p = manutd_away_p.drop(['FT_Result', 'HT_Result'], axis = 1) \n",
    "manutd_away_p_t = manutd_away_p_t.drop(['FT_Result', 'HT_Result'], axis = 1)\n"
   ]
  },
  {
   "cell_type": "code",
   "execution_count": 89,
   "metadata": {},
   "outputs": [],
   "source": [
    "#Declare Dependent/Independent Variables\n",
    "mua_y_train = manutd_away_p['Result']\n",
    "mua_X_train = manutd_away_p[['FT_AwayGoals', 'HT_AwayGoals','AwayShotsonTarget', 'AwayFouls','AwayYellowCards', 'AwayRedCards','Bet365_AwayWin_Odds', 'WilliamHill_AwayWin_Odds']]\n",
    "mua_y_test = manutd_away_p_t['Result']\n",
    "mua_X_test = manutd_away_p_t[['FT_AwayGoals', 'HT_AwayGoals','AwayShotsonTarget', 'AwayFouls','AwayYellowCards', 'AwayRedCards','Bet365_AwayWin_Odds', 'WilliamHill_AwayWin_Odds']]"
   ]
  },
  {
   "cell_type": "code",
   "execution_count": 90,
   "metadata": {},
   "outputs": [
    {
     "data": {
      "text/plain": [
       "LogisticRegression(max_iter=200, random_state=1)"
      ]
     },
     "execution_count": 90,
     "metadata": {},
     "output_type": "execute_result"
    }
   ],
   "source": [
    "from sklearn.linear_model import LogisticRegression\n",
    "mua_classifier = LogisticRegression(solver='lbfgs',\n",
    "                                max_iter=200,\n",
    "                                random_state=1)\n",
    "mua_classifier"
   ]
  },
  {
   "cell_type": "code",
   "execution_count": 91,
   "metadata": {},
   "outputs": [
    {
     "data": {
      "text/plain": [
       "LogisticRegression(max_iter=200, random_state=1)"
      ]
     },
     "execution_count": 91,
     "metadata": {},
     "output_type": "execute_result"
    }
   ],
   "source": [
    "mua_classifier.fit(mua_X_train, mua_y_train)"
   ]
  },
  {
   "cell_type": "code",
   "execution_count": 92,
   "metadata": {},
   "outputs": [
    {
     "name": "stdout",
     "output_type": "stream",
     "text": [
      "Training Data Score: 0.7543859649122807\n",
      "Testing Data Score: 1.0\n"
     ]
    }
   ],
   "source": [
    "print(f\"Training Data Score: {mua_classifier.score(mua_X_train, mua_y_train)}\")\n",
    "print(f\"Testing Data Score: {mua_classifier.score(mua_X_test, mua_y_test)}\")"
   ]
  },
  {
   "cell_type": "markdown",
   "metadata": {},
   "source": [
    "# Summary"
   ]
  },
  {
   "cell_type": "code",
   "execution_count": 103,
   "metadata": {},
   "outputs": [
    {
     "data": {
      "text/html": [
       "<div>\n",
       "<style scoped>\n",
       "    .dataframe tbody tr th:only-of-type {\n",
       "        vertical-align: middle;\n",
       "    }\n",
       "\n",
       "    .dataframe tbody tr th {\n",
       "        vertical-align: top;\n",
       "    }\n",
       "\n",
       "    .dataframe thead th {\n",
       "        text-align: right;\n",
       "    }\n",
       "</style>\n",
       "<table border=\"1\" class=\"dataframe\">\n",
       "  <thead>\n",
       "    <tr style=\"text-align: right;\">\n",
       "      <th></th>\n",
       "      <th>Predicted Winner</th>\n",
       "      <th>Potential Return</th>\n",
       "      <th>Risk</th>\n",
       "      <th>Potential Profit</th>\n",
       "      <th>Implied Probability</th>\n",
       "      <th>Realized Profit/Loss</th>\n",
       "    </tr>\n",
       "    <tr>\n",
       "      <th>Match</th>\n",
       "      <th></th>\n",
       "      <th></th>\n",
       "      <th></th>\n",
       "      <th></th>\n",
       "      <th></th>\n",
       "      <th></th>\n",
       "    </tr>\n",
       "  </thead>\n",
       "  <tbody>\n",
       "    <tr>\n",
       "      <th>Everton vs Liverpool</th>\n",
       "      <td>Liverpool</td>\n",
       "      <td>$1.86</td>\n",
       "      <td>$1.00</td>\n",
       "      <td>$.86</td>\n",
       "      <td>59.51%</td>\n",
       "      <td>-1.00</td>\n",
       "    </tr>\n",
       "    <tr>\n",
       "      <th>Chelsea vs Southampton</th>\n",
       "      <td>Chelsea</td>\n",
       "      <td>$1.50</td>\n",
       "      <td>$1.00</td>\n",
       "      <td>$.50</td>\n",
       "      <td>66.67%</td>\n",
       "      <td>-1.00</td>\n",
       "    </tr>\n",
       "    <tr>\n",
       "      <th>Man City vs Arsenal</th>\n",
       "      <td>Man City</td>\n",
       "      <td>$1.47</td>\n",
       "      <td>$1.00</td>\n",
       "      <td>$.47</td>\n",
       "      <td>68.25%</td>\n",
       "      <td>0.47</td>\n",
       "    </tr>\n",
       "    <tr>\n",
       "      <th>Newcastle vs Man United</th>\n",
       "      <td>Man United</td>\n",
       "      <td>$1.67</td>\n",
       "      <td>$1.00</td>\n",
       "      <td>$.67</td>\n",
       "      <td>60%</td>\n",
       "      <td>0.67</td>\n",
       "    </tr>\n",
       "  </tbody>\n",
       "</table>\n",
       "</div>"
      ],
      "text/plain": [
       "                        Predicted Winner Potential Return   Risk  \\\n",
       "Match                                                              \n",
       "Everton vs Liverpool           Liverpool            $1.86  $1.00   \n",
       "Chelsea vs Southampton           Chelsea            $1.50  $1.00   \n",
       "Man City vs Arsenal             Man City            $1.47  $1.00   \n",
       "Newcastle vs Man United       Man United            $1.67  $1.00   \n",
       "\n",
       "                        Potential Profit Implied Probability  \\\n",
       "Match                                                          \n",
       "Everton vs Liverpool                $.86              59.51%   \n",
       "Chelsea vs Southampton              $.50              66.67%   \n",
       "Man City vs Arsenal                 $.47              68.25%   \n",
       "Newcastle vs Man United             $.67                 60%   \n",
       "\n",
       "                         Realized Profit/Loss  \n",
       "Match                                          \n",
       "Everton vs Liverpool                    -1.00  \n",
       "Chelsea vs Southampton                  -1.00  \n",
       "Man City vs Arsenal                      0.47  \n",
       "Newcastle vs Man United                  0.67  "
      ]
     },
     "execution_count": 103,
     "metadata": {},
     "output_type": "execute_result"
    }
   ],
   "source": [
    "#Create DataFrame for Potential Profit and Risk\n",
    "prediction_df = pd.DataFrame({\n",
    "    \"Match\" : [\"Everton vs Liverpool\", \"Chelsea vs Southampton\",\"Man City vs Arsenal\", \"Newcastle vs Man United\"],\n",
    "    \n",
    "    \"Predicted Winner\" : [\"Liverpool\", \"Chelsea\", \"Man City\", \"Man United\"],\n",
    "    \"Potential Return\" : [\"$1.86\", \"$1.50\", \"$1.47\", \"$1.67\"],\n",
    "    \"Risk\" : [\"$1.00\", \"$1.00\", \"$1.00\", \"$1.00\"],\n",
    "    \"Potential Profit\" : [\"$.86\", \"$.50\", \"$.47\", \"$.67\"],\n",
    "    \"Implied Probability\" : [\"59.51%\", \"66.67%\", \"68.25%\", \"60%\"],\n",
    "    \"Realized Profit/Loss\" : [-1, -1, .47, .67]\n",
    "    \n",
    "})\n",
    "\n",
    "prediction_df.set_index('Match', inplace = True)\n",
    "\n",
    "prediction_df.head(20)"
   ]
  },
  {
   "cell_type": "code",
   "execution_count": 113,
   "metadata": {},
   "outputs": [
    {
     "data": {
      "text/plain": [
       "-0.86"
      ]
     },
     "execution_count": 113,
     "metadata": {},
     "output_type": "execute_result"
    }
   ],
   "source": [
    "prediction_df['Realized Profit/Loss'].sum()"
   ]
  },
  {
   "cell_type": "code",
   "execution_count": 126,
   "metadata": {},
   "outputs": [
    {
     "data": {
      "text/plain": [
       "-21.5"
      ]
     },
     "execution_count": 126,
     "metadata": {},
     "output_type": "execute_result"
    }
   ],
   "source": [
    "(-.86/4)*100"
   ]
  },
  {
   "cell_type": "code",
   "execution_count": 118,
   "metadata": {},
   "outputs": [
    {
     "data": {
      "text/html": [
       "<div>\n",
       "<style scoped>\n",
       "    .dataframe tbody tr th:only-of-type {\n",
       "        vertical-align: middle;\n",
       "    }\n",
       "\n",
       "    .dataframe tbody tr th {\n",
       "        vertical-align: top;\n",
       "    }\n",
       "\n",
       "    .dataframe thead th {\n",
       "        text-align: right;\n",
       "    }\n",
       "</style>\n",
       "<table border=\"1\" class=\"dataframe\">\n",
       "  <thead>\n",
       "    <tr style=\"text-align: right;\">\n",
       "      <th></th>\n",
       "      <th>Predicted Winner</th>\n",
       "      <th>Potential Return</th>\n",
       "      <th>Risk</th>\n",
       "      <th>Potential Profit</th>\n",
       "      <th>Implied Probability</th>\n",
       "      <th>Realized Profit/Loss</th>\n",
       "    </tr>\n",
       "    <tr>\n",
       "      <th>Match</th>\n",
       "      <th></th>\n",
       "      <th></th>\n",
       "      <th></th>\n",
       "      <th></th>\n",
       "      <th></th>\n",
       "      <th></th>\n",
       "    </tr>\n",
       "  </thead>\n",
       "  <tbody>\n",
       "    <tr>\n",
       "      <th>Everton vs Liverpool</th>\n",
       "      <td>Liverpool</td>\n",
       "      <td>$1.36</td>\n",
       "      <td>$1.00</td>\n",
       "      <td>$.36</td>\n",
       "      <td>73.33%</td>\n",
       "      <td>0.00</td>\n",
       "    </tr>\n",
       "    <tr>\n",
       "      <th>Chelsea vs Southampton</th>\n",
       "      <td>Chelsea</td>\n",
       "      <td>$1.25</td>\n",
       "      <td>$1.00</td>\n",
       "      <td>$.25</td>\n",
       "      <td>80.00%</td>\n",
       "      <td>0.00</td>\n",
       "    </tr>\n",
       "    <tr>\n",
       "      <th>Man City vs Arsenal</th>\n",
       "      <td>Man City</td>\n",
       "      <td>$1.20</td>\n",
       "      <td>$1.00</td>\n",
       "      <td>$.20</td>\n",
       "      <td>83.33%</td>\n",
       "      <td>0.20</td>\n",
       "    </tr>\n",
       "    <tr>\n",
       "      <th>Newcastle vs Man United</th>\n",
       "      <td>Man United</td>\n",
       "      <td>$1.36</td>\n",
       "      <td>$1.00</td>\n",
       "      <td>$.36</td>\n",
       "      <td>73.33%</td>\n",
       "      <td>0.36</td>\n",
       "    </tr>\n",
       "  </tbody>\n",
       "</table>\n",
       "</div>"
      ],
      "text/plain": [
       "                        Predicted Winner Potential Return   Risk  \\\n",
       "Match                                                              \n",
       "Everton vs Liverpool           Liverpool            $1.36  $1.00   \n",
       "Chelsea vs Southampton           Chelsea            $1.25  $1.00   \n",
       "Man City vs Arsenal             Man City            $1.20  $1.00   \n",
       "Newcastle vs Man United       Man United            $1.36  $1.00   \n",
       "\n",
       "                        Potential Profit Implied Probability  \\\n",
       "Match                                                          \n",
       "Everton vs Liverpool                $.36              73.33%   \n",
       "Chelsea vs Southampton              $.25              80.00%   \n",
       "Man City vs Arsenal                 $.20              83.33%   \n",
       "Newcastle vs Man United             $.36              73.33%   \n",
       "\n",
       "                         Realized Profit/Loss  \n",
       "Match                                          \n",
       "Everton vs Liverpool                     0.00  \n",
       "Chelsea vs Southampton                   0.00  \n",
       "Man City vs Arsenal                      0.20  \n",
       "Newcastle vs Man United                  0.36  "
      ]
     },
     "execution_count": 118,
     "metadata": {},
     "output_type": "execute_result"
    }
   ],
   "source": [
    "#Create DataFrame for Potential Profit and Risk (Nullifiying Ties)\n",
    "prediction_nt_df = pd.DataFrame({\n",
    "    \"Match\" : [\"Everton vs Liverpool\", \"Chelsea vs Southampton\",\"Man City vs Arsenal\", \"Newcastle vs Man United\"],\n",
    "    \n",
    "    \"Predicted Winner\" : [\"Liverpool\", \"Chelsea\", \"Man City\", \"Man United\"],\n",
    "    \"Potential Return\" : [\"$1.36\", \"$1.25\", \"$1.20\", \"$1.36\"],\n",
    "    \"Risk\" : [\"$1.00\", \"$1.00\", \"$1.00\", \"$1.00\"],\n",
    "    \"Potential Profit\" : [\"$.36\", \"$.25\", \"$.20\", \"$.36\"],\n",
    "    \"Implied Probability\" : [\"73.33%\", \"80.00%\", \"83.33%\", \"73.33%\"],\n",
    "    \"Realized Profit/Loss\" : [0, 0, .20, .36]\n",
    "    \n",
    "})\n",
    "\n",
    "prediction_nt_df.set_index('Match', inplace = True)\n",
    "\n",
    "prediction_nt_df.head(20)"
   ]
  },
  {
   "cell_type": "code",
   "execution_count": 119,
   "metadata": {},
   "outputs": [
    {
     "data": {
      "text/plain": [
       "0.56"
      ]
     },
     "execution_count": 119,
     "metadata": {},
     "output_type": "execute_result"
    }
   ],
   "source": [
    "prediction_nt_df['Realized Profit/Loss'].sum()"
   ]
  },
  {
   "cell_type": "code",
   "execution_count": 127,
   "metadata": {},
   "outputs": [
    {
     "data": {
      "text/plain": [
       "14.000000000000002"
      ]
     },
     "execution_count": 127,
     "metadata": {},
     "output_type": "execute_result"
    }
   ],
   "source": [
    "(.56/4)*100"
   ]
  },
  {
   "cell_type": "code",
   "execution_count": null,
   "metadata": {},
   "outputs": [],
   "source": []
  }
 ],
 "metadata": {
  "kernelspec": {
   "display_name": "Python 3",
   "language": "python",
   "name": "python3"
  },
  "language_info": {
   "codemirror_mode": {
    "name": "ipython",
    "version": 3
   },
   "file_extension": ".py",
   "mimetype": "text/x-python",
   "name": "python",
   "nbconvert_exporter": "python",
   "pygments_lexer": "ipython3",
   "version": "3.8.3"
  }
 },
 "nbformat": 4,
 "nbformat_minor": 4
}
